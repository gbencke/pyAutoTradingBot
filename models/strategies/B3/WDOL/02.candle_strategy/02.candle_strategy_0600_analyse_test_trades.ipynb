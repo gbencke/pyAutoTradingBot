{
 "cells": [
  {
   "cell_type": "code",
   "execution_count": null,
   "id": "172af041-9fc9-4e7a-9de5-6db47f6f0810",
   "metadata": {},
   "outputs": [],
   "source": [
    "import os\n",
    "import joblib\n",
    "import pandas as pd\n",
    "import datetime\n",
    "\n",
    "import seaborn as sns"
   ]
  },
  {
   "cell_type": "code",
   "execution_count": null,
   "outputs": [],
   "source": [
    "sns.set(rc={'figure.figsize':(24,8.27)})"
   ],
   "metadata": {
    "collapsed": false
   },
   "id": "35c2a9dd3703a931"
  },
  {
   "cell_type": "code",
   "execution_count": null,
   "outputs": [],
   "source": [
    "DATA_OUTPUT_DIR = os.path.join('..','00.data','output')\n"
   ],
   "metadata": {
    "collapsed": false
   },
   "id": "ea57d8f4ba7a7878"
  },
  {
   "cell_type": "code",
   "execution_count": null,
   "outputs": [],
   "source": [
    "if \"DATA_OUTPUT_DIR\" in os.environ:\n",
    "    DATA_OUTPUT_DIR = os.environ[\"DATA_OUTPUT_DIR\"]\n"
   ],
   "metadata": {
    "collapsed": false
   },
   "id": "b3cbdcad89d1beed"
  },
  {
   "cell_type": "code",
   "execution_count": null,
   "outputs": [],
   "source": [
    "files_found = [x for x in os.listdir(DATA_OUTPUT_DIR) if x.endswith('.pickle')]\n",
    "files_found_tokens=[x.split('.') for x in files_found]\n",
    "\n",
    "models_found = {}\n",
    "\n",
    "for current_model in files_found_tokens:\n",
    "    model_name = '.'.join(current_model[:-2])\n",
    "    filename = os.path.join(DATA_OUTPUT_DIR,'.'.join(current_model))\n",
    "    if not model_name in models_found:\n",
    "        models_found[model_name]= {}\n",
    "    models_found[model_name][current_model[-2]]=filename\n"
   ],
   "metadata": {
    "collapsed": false
   },
   "id": "daf450bd497c3806"
  },
  {
   "cell_type": "code",
   "execution_count": null,
   "outputs": [],
   "source": [
    "first_model = list(models_found.keys())[0]\n",
    "current_parameters = joblib.load(models_found[first_model]['parameters'])\n",
    "MINIMUM_TIME = current_parameters['MINIMUM_TIME']\n",
    "MAXIMUM_TIME = current_parameters['MAXIMUM_TIME']\n",
    "CURRENT_EXCHANGE = current_parameters['CURRENT_EXCHANGE']\n",
    "CURRENT_ASSET = current_parameters['CURRENT_ASSET']\n",
    "CURRENT_TIMEFRAME= current_parameters['CURRENT_TIMEFRAME']\n",
    "CURRENT_TARGET= current_parameters['CURRENT_TARGET']\n",
    "CURRENT_STOP= current_parameters['CURRENT_STOP']\n",
    "MAX_TRADE_DURATION = current_parameters['MAX_TRADE_DURATION']\n",
    "DECISION_BOUNDARY = current_parameters['DECISION_BOUNDARY']\n"
   ],
   "metadata": {
    "collapsed": false
   },
   "id": "ecf5493f4ec0b352"
  },
  {
   "cell_type": "code",
   "execution_count": null,
   "outputs": [],
   "source": [
    "raw_trades_file_name = os.path.join(f\"{CURRENT_EXCHANGE}.{CURRENT_ASSET}.{CURRENT_TIMEFRAME}.{int(CURRENT_TARGET * 100)}.{int(CURRENT_STOP * 100)}.test_trades.xlsx\")\n",
    "raw_trades_full_file_name = os.path.join(DATA_OUTPUT_DIR,raw_trades_file_name)\n",
    "trades = pd.read_excel(raw_trades_full_file_name).to_dict('records')\n",
    "\n",
    "trades\n"
   ],
   "metadata": {
    "collapsed": false
   },
   "id": "c8439f0b23bae7d"
  },
  {
   "cell_type": "markdown",
   "source": [
    "## Overall Trade Results"
   ],
   "metadata": {
    "collapsed": false
   },
   "id": "36887beae1508ea"
  },
  {
   "cell_type": "code",
   "execution_count": null,
   "outputs": [],
   "source": [
    "index_col = list(trades[0].keys())[0]\n",
    "trades_result = [{'index' : x[index_col]  ,'result' : x['result']} for x in trades]\n",
    "\n",
    "current_trade_total = 0\n",
    "trades_total = []\n",
    "for current_trade in trades_result:\n",
    "    trades_total.append({ 'index': current_trade['index'], 'total': current_trade_total })\n",
    "    current_trade_total += int(current_trade['result'])\n",
    "\n",
    "sns.lineplot(data=pd.DataFrame(trades_total), x=\"index\", y=\"total\")\n"
   ],
   "metadata": {
    "collapsed": false
   },
   "id": "63585c585a61fc1d"
  },
  {
   "cell_type": "markdown",
   "source": [
    "## Trade Results per Month"
   ],
   "metadata": {
    "collapsed": false
   },
   "id": "b6191c2ccc0f5ed6"
  },
  {
   "cell_type": "code",
   "execution_count": null,
   "outputs": [],
   "source": [
    "\n",
    "current_trades_month = {}\n",
    "\n",
    "for current_trade in trades:\n",
    "    current_month=str(int(current_trade['Date'] / 100))\n",
    "    if current_month in current_trades_month:\n",
    "        current_trades_month[current_month]+=int(current_trade['result'])\n",
    "    else:\n",
    "        current_trades_month[current_month]=int(current_trade['result'])\n",
    "\n",
    "result_per_month = []\n",
    "\n",
    "for current_month in list(current_trades_month.keys()):\n",
    "    result_per_month.append({ 'month' : current_month, 'result': current_trades_month[current_month]})\n",
    "\n",
    "sns.barplot(pd.DataFrame(result_per_month), x=\"month\", y=\"result\")\n"
   ],
   "metadata": {
    "collapsed": false
   },
   "id": "5cfebf5db9646406"
  },
  {
   "cell_type": "markdown",
   "source": [
    "## Trade Results, but with Max Loss Stop"
   ],
   "metadata": {
    "collapsed": false
   },
   "id": "31ec9791d79d4be3"
  },
  {
   "cell_type": "code",
   "execution_count": null,
   "outputs": [],
   "source": [
    "\n",
    "loss_scenarios = [-10, -20,-30,-40,-50,-60,-70,-80,-90,-100, -200, -400, -800]\n",
    "current_result_max_stop = {}\n",
    "\n",
    "for max_loss in loss_scenarios:\n",
    "    date_results = {}\n",
    "    for current_trade in trades:\n",
    "        current_date = current_trade['Date']\n",
    "        if current_date in date_results:\n",
    "            if date_results[current_date] < max_loss:\n",
    "                continue\n",
    "            else:\n",
    "                date_results[current_date]+=int(current_trade['result'])\n",
    "        else:\n",
    "            date_results[current_date]=int(current_trade['result'])\n",
    "\n",
    "    total = 0\n",
    "    for current_date in list(date_results.keys()):\n",
    "        total+=date_results[current_date]\n",
    "\n",
    "    current_result_max_stop[str(max_loss)]=total\n",
    "\n",
    "result_per_max_loss = []\n",
    "for current_max_loss in list(current_result_max_stop.keys()):\n",
    "    result_per_max_loss.append({ 'max_loss' : current_max_loss, 'result': current_result_max_stop[current_max_loss] - current_trade_total})\n",
    "\n",
    "ax = sns.barplot(pd.DataFrame(result_per_max_loss), x=\"max_loss\", y=\"result\")\n",
    "\n",
    "for i in ax.containers:\n",
    "    ax.bar_label(i, )\n"
   ],
   "metadata": {
    "collapsed": false
   },
   "id": "6f761c0106b2567f"
  },
  {
   "cell_type": "markdown",
   "source": [
    "## Trade Results per Hour"
   ],
   "metadata": {
    "collapsed": false
   },
   "id": "76f211584a7e1fa1"
  },
  {
   "cell_type": "code",
   "execution_count": null,
   "outputs": [],
   "source": [
    "current_trades_hour = {}\n",
    "\n",
    "for current_trade in trades:\n",
    "    current_hour=str(int(current_trade['Time'] )).zfill(4)\n",
    "    if current_hour in current_trades_hour:\n",
    "        current_trades_hour[current_hour]+=int(current_trade['result'])\n",
    "    else:\n",
    "        current_trades_hour[current_hour]=int(current_trade['result'])\n",
    "\n",
    "result_per_month = []\n",
    "\n",
    "keys_sorted = list(current_trades_hour.keys())\n",
    "\n",
    "keys_sorted.sort()\n",
    "\n",
    "for current_hour in keys_sorted:\n",
    "    result_per_month.append({ 'hour' : current_hour, 'result': current_trades_hour[current_hour]})\n",
    "\n",
    "sns.barplot(pd.DataFrame(result_per_month), x=\"hour\", y=\"result\")\n"
   ],
   "metadata": {
    "collapsed": false
   },
   "id": "8adbd92f2e482183"
  },
  {
   "cell_type": "markdown",
   "source": [
    "## Trade Results per WeekDay"
   ],
   "metadata": {
    "collapsed": false
   },
   "id": "e4cb1eacef40c145"
  },
  {
   "cell_type": "code",
   "execution_count": null,
   "outputs": [],
   "source": [
    "current_trades_weekday = {}\n",
    "\n",
    "for current_trade in trades:\n",
    "\n",
    "    current_date_str = str(current_trade['Date'])\n",
    "    current_date_year = int(current_date_str[0:4])\n",
    "    current_date_month = int(current_date_str[4:6])\n",
    "    current_date_day = int(current_date_str[6:8])\n",
    "\n",
    "    current_weekday=datetime.date(current_date_year, current_date_month, current_date_day).weekday()\n",
    "\n",
    "    if current_weekday in current_trades_weekday:\n",
    "        current_trades_weekday[current_weekday]+=int(current_trade['result'])\n",
    "    else:\n",
    "        current_trades_weekday[current_weekday]=int(current_trade['result'])\n",
    "\n",
    "result_per_weekday = []\n",
    "\n",
    "keys_sorted = list(current_trades_weekday.keys())\n",
    "\n",
    "keys_sorted.sort()\n",
    "\n",
    "for current_weekday in keys_sorted:\n",
    "    result_per_weekday.append({ 'weekday' : current_weekday, 'result': current_trades_weekday[current_weekday]})\n",
    "\n",
    "sns.barplot(pd.DataFrame(result_per_weekday), x=\"weekday\", y=\"result\")\n"
   ],
   "metadata": {
    "collapsed": false
   },
   "id": "5f97a0cc0b69a5bb"
  }
 ],
 "metadata": {
  "kernelspec": {
   "display_name": "Python 3 (ipykernel)",
   "language": "python",
   "name": "python3"
  },
  "language_info": {
   "codemirror_mode": {
    "name": "ipython",
    "version": 3
   },
   "file_extension": ".py",
   "mimetype": "text/x-python",
   "name": "python",
   "nbconvert_exporter": "python",
   "pygments_lexer": "ipython3",
   "version": "3.9.6"
  }
 },
 "nbformat": 4,
 "nbformat_minor": 5
}
