{
 "cells": [
  {
   "cell_type": "code",
   "execution_count": null,
   "id": "a3a3ed75-09cb-436d-b636-daf021dfa5c1",
   "metadata": {
    "tags": []
   },
   "outputs": [],
   "source": [
    "SHAP_ENABLED=False"
   ]
  },
  {
   "cell_type": "code",
   "execution_count": null,
   "id": "df06572e-1d31-4ed8-8cac-9993379ee28d",
   "metadata": {
    "tags": []
   },
   "outputs": [],
   "source": [
    "import os\n",
    "import pandas as pd\n",
    "import joblib\n",
    "import xgboost as xgb\n",
    "import gc\n",
    "from sklearn.model_selection import GridSearchCV, StratifiedKFold\n",
    "from xgboost import XGBClassifier\n",
    "\n",
    "if SHAP_ENABLED:\n",
    "    import shap"
   ]
  },
  {
   "cell_type": "code",
   "execution_count": null,
   "id": "701d79e4-cd38-469f-818f-daad82c72119",
   "metadata": {
    "tags": []
   },
   "outputs": [],
   "source": [
    "import platform\n",
    "\n",
    "SHOULD_GENERATE_IMAGES = platform.system() == 'Windows'\n",
    "if \"SHOULD_GENERATE_IMAGES\" in os.environ:\n",
    "    SHOULD_GENERATE_IMAGES = True"
   ]
  },
  {
   "cell_type": "code",
   "execution_count": null,
   "id": "8155efc1-ab59-45cd-9d79-75605cbe73c4",
   "metadata": {
    "tags": []
   },
   "outputs": [],
   "source": [
    "IS_HYPER_PARAMETER_SEARCH = False\n",
    "NUM_FOLDS_CROSSVALIDATION = 10\n",
    "NUM_TREES = 120\n",
    "TREE_DEPTH = 5\n",
    "\n",
    "DATA_OUTPUT_DIR = os.path.join('..','00.data','output')\n",
    "DATA_HYPERPARAMETERS_DIR = os.path.join('..','00.data','hyperparameters')"
   ]
  },
  {
   "cell_type": "code",
   "execution_count": null,
   "id": "97807fae-c040-4d7b-9a76-176eaabd0e1c",
   "metadata": {
    "tags": []
   },
   "outputs": [],
   "source": [
    "if \"IS_HYPER_PARAMETER_SEARCH\" in os.environ:\n",
    "    IS_HYPER_PARAMETER_SEARCH = bool(os.environ[\"IS_HYPER_PARAMETER_SEARCH\"])\n",
    "    \n",
    "if \"NUM_FOLDS_CROSSVALIDATION\" in os.environ:\n",
    "    NUM_FOLDS_CROSSVALIDATION = int(os.environ[\"NUM_FOLDS_CROSSVALIDATION\"])\n",
    "    \n",
    "if \"DATA_OUTPUT_DIR\" in os.environ:\n",
    "    DATA_OUTPUT_DIR = os.environ[\"DATA_OUTPUT_DIR\"]\n",
    "    \n",
    "if \"DATA_HYPERPARAMETERS_DIR\" in os.environ:\n",
    "    DATA_HYPERPARAMETERS_DIR = os.environ[\"DATA_HYPERPARAMETERS_DIR\"]    \n",
    "    \n",
    "if \"NUM_TREES\" in os.environ:\n",
    "    NUM_TREES = os.environ[\"NUM_TREES\"]\n",
    "\n",
    "if \"TREE_DEPTH\" in os.environ:\n",
    "    TREE_DEPTH = os.environ[\"TREE_DEPTH\"]"
   ]
  },
  {
   "cell_type": "code",
   "execution_count": null,
   "id": "9e10e7ab-2903-4a29-9dd4-264e072c6bdc",
   "metadata": {
    "tags": []
   },
   "outputs": [],
   "source": [
    "files_found = [x for x in os.listdir(DATA_OUTPUT_DIR) if x.endswith('.pickle')]\n",
    "files_found_tokens=[x.split('.') for x in files_found]\n",
    "\n",
    "models_found = {}\n",
    "\n",
    "for current_model in files_found_tokens:\n",
    "    model_name = '.'.join(current_model[:-2])\n",
    "    filename = os.path.join(DATA_OUTPUT_DIR,'.'.join(current_model))\n",
    "    if not model_name in models_found:\n",
    "        models_found[model_name]= {}          \n",
    "    models_found[model_name][current_model[-2]]=filename\n",
    "\n",
    "print(models_found)"
   ]
  },
  {
   "cell_type": "code",
   "execution_count": null,
   "id": "c5f2970e-b483-495f-bab2-02cde3318901",
   "metadata": {
    "tags": []
   },
   "outputs": [],
   "source": [
    "first_model = list(models_found.keys())[0]\n",
    "current_total_dataset = joblib.load(models_found[first_model]['total'])\n",
    "current_parameters = joblib.load(models_found[first_model]['parameters'])"
   ]
  },
  {
   "cell_type": "code",
   "execution_count": null,
   "id": "b4d8c33f-75e3-4c6a-be7b-b41f2fc4b0a5",
   "metadata": {
    "tags": []
   },
   "outputs": [],
   "source": [
    "df_current_total_dataset = pd.DataFrame(current_total_dataset)\n",
    "df_current_total_dataset_x = df_current_total_dataset[current_parameters['CURRENT_X_COLUMNS']]\n",
    "df_current_total_dataset_y_short = df_current_total_dataset[current_parameters['CURRENT_Y_COLUMN_SHORT']]\n",
    "df_current_total_dataset_y_long = df_current_total_dataset[current_parameters['CURRENT_Y_COLUMN_LONG']]\n",
    "\n",
    "total_total_count = len(df_current_total_dataset)\n",
    "total_short_count = len([x for x in df_current_total_dataset_y_short if x == True])\n",
    "total_long_count = len([x for x in df_current_total_dataset_y_long if x == True])\n",
    "total_long_ratio = (total_total_count - total_long_count) / total_long_count\n",
    "total_short_ratio = (total_total_count - total_short_count) / total_short_count\n",
    "\n",
    "print(f'(train)Short Count:{total_short_count}/{total_total_count} {(total_short_count/total_total_count) * 100:.2f}%')\n",
    "print(f'(train)Long Count:{total_long_count}/{total_total_count}  {(total_long_count/total_total_count) * 100:.2f}%')\n",
    "print(f'(train)Long Ratio:{total_long_ratio:.2f}')\n",
    "print(f'(train)Short Ratio:{total_short_ratio:.2f}')"
   ]
  },
  {
   "cell_type": "code",
   "execution_count": null,
   "id": "1a57d0a7-5f35-419c-aa8b-23cbb5a5a3a3",
   "metadata": {
    "tags": []
   },
   "outputs": [],
   "source": [
    "CURRENT_EXCHANGE = current_parameters['CURRENT_EXCHANGE']\n",
    "CURRENT_ASSET = current_parameters['CURRENT_ASSET']\n",
    "CURRENT_TIMEFRAME = current_parameters['CURRENT_TIMEFRAME']\n",
    "CURRENT_TARGET = current_parameters['CURRENT_TARGET']\n",
    "CURRENT_STOP = current_parameters['CURRENT_STOP']\n",
    "MINIMUM_TIME = current_parameters['MINIMUM_TIME']\n",
    "MAXIMUM_TIME = current_parameters['MAXIMUM_TIME']\n",
    "MAX_TRAIN_DATE = current_parameters['MAX_TRAIN_DATE']\n",
    "MAX_TRADE_DURATION = current_parameters['MAX_TRADE_DURATION']\n",
    "CURRENT_DAILY_FILE_CSV = current_parameters['CURRENT_DAILY_FILE_CSV']\n",
    "CURRENT_5MIN_FILE_CSV = current_parameters['CURRENT_5MIN_FILE_CSV']\n",
    "MINIMUM_DATE_DATAFRAME = current_parameters['MINIMUM_DATE_DATAFRAME']\n",
    "MINIMUM_DATE_TRADE = current_parameters['MINIMUM_DATE_TRADE']\n",
    "DECISION_BOUNDARY = current_parameters['DECISION_BOUNDARY']\n",
    "TRADE_DAY_START = current_parameters['TRADE_DAY_START']\n",
    "WEIGHT_RATIO = float(current_parameters['WEIGHT_RATIO'])"
   ]
  },
  {
   "cell_type": "code",
   "execution_count": null,
   "id": "8e465ada-f790-4887-b223-81064e0e7c7b",
   "metadata": {},
   "outputs": [],
   "source": [
    "FULL_FEATURE_LIST = list(\n",
    "    {'x0_roc', 'x0_previous_high', 'x0_previous_low', 'x0_previous_close', 'x0_previous_open', 'x0_ema9_close',\n",
    "     'x0_ema21_close', 'x0_ema55_close', 'x0_ema144_close', 'x0_ema233_close', 'x1_roc', 'x1_previous_high',\n",
    "     'x1_previous_low', 'x1_previous_close', 'x1_previous_open', 'x1_ema9_close', 'x1_ema21_close', 'x1_ema55_close',\n",
    "     'x1_ema144_close', 'x1_ema233_close', 'x1_x0_close', 'x1_x0_high', 'x1_x0_low', 'x2_roc', 'x2_previous_high',\n",
    "     'x2_previous_low', 'x2_previous_close', 'x2_previous_open', 'x2_ema9_close', 'x2_ema21_close', 'x2_ema55_close',\n",
    "     'x2_ema144_close', 'x2_ema233_close', 'x2_x1_close', 'x2_x1_high', 'x2_x1_low', 'x3_roc', 'x3_previous_high',\n",
    "     'x3_previous_low', 'x3_previous_close', 'x3_previous_open', 'x3_ema9_close', 'x3_ema21_close', 'x3_ema55_close',\n",
    "     'x3_ema144_close', 'x3_ema233_close', 'x3_x2_close', 'x3_x2_high', 'x3_x2_low', 'x4_roc', 'x4_previous_high',\n",
    "     'x4_previous_low', 'x4_previous_close', 'x4_previous_open', 'x4_ema9_close', 'x4_ema21_close', 'x4_ema55_close',\n",
    "     'x4_ema144_close', 'x4_ema233_close', 'x4_x3_close', 'x4_x3_high', 'x4_x3_low', 'x5_roc', 'x5_previous_high',\n",
    "     'x5_previous_low', 'x5_previous_close', 'x5_previous_open', 'x5_ema9_close', 'x5_ema21_close', 'x5_ema55_close',\n",
    "     'x5_ema144_close', 'x5_ema233_close', 'x5_x4_close', 'x5_x4_high', 'x5_x4_low', 'x6_roc', 'x6_previous_high',\n",
    "     'x6_previous_low', 'x6_previous_close', 'x6_previous_open', 'x6_ema9_close', 'x6_ema21_close', 'x6_ema55_close',\n",
    "     'x6_ema144_close', 'x6_ema233_close', 'x6_x5_close', 'x6_x5_high', 'x6_x5_low', 'x7_ema9', 'x7_ema21', 'x7_ema55',\n",
    "     'x7_ema144', 'x7_ema233', 'x7_ema9', 'x7_ema21', 'x7_ema55', 'x7_ema144', 'x7_ema233', 'x7_open', 'x7_high',\n",
    "     'x7_low', 'x7_close', 'x7_volume', 'x7_open', 'x7_high', 'x7_low', 'x7_close', 'x7_height', 'x7_body', 'x7_roc',\n",
    "     'x7_previous_high', 'x7_previous_low', 'x7_previous_close', 'x7_previous_open', 'x7_ema9_close', 'x7_ema21_close',\n",
    "     'x7_ema55_close', 'x7_ema144_close', 'x7_ema233_close', 'x7_x6_close', 'x7_x6_high', 'x7_x6_low', 'x8_roc',\n",
    "     'x8_previous_high', 'x8_previous_low', 'x8_previous_close', 'x8_previous_open', 'x8_ema9_close', 'x8_ema21_close',\n",
    "     'x8_ema55_close', 'x8_ema144_close', 'x8_ema233_close', 'x8_x7_close', 'x8_x7_high', 'x8_x7_low', 'x9_roc',\n",
    "     'x9_previous_high', 'x9_previous_low', 'x9_previous_close', 'x9_previous_open', 'x9_ema9_close', 'x9_ema21_close',\n",
    "     'x9_ema55_close', 'x9_ema144_close', 'x9_ema233_close', 'x9_x8_close', 'x9_x8_high', 'x9_x8_low', 'x10_roc',\n",
    "     'x10_previous_high', 'x10_previous_low', 'x10_previous_close', 'x10_previous_open', 'x10_ema9_close',\n",
    "     'x10_ema21_close', 'x10_ema55_close', 'x10_ema144_close', 'x10_ema233_close', 'x10_x9_close', 'x10_x9_high',\n",
    "     'x10_x9_low', 'x11_roc', 'x11_previous_high', 'x11_previous_low', 'x11_previous_close', 'x11_previous_open',\n",
    "     'x11_ema9_close', 'x11_ema21_close', 'x11_ema55_close', 'x11_ema144_close', 'x11_ema233_close', 'x11_x10_close',\n",
    "     'x11_x10_high', 'x11_x10_low', 'previous_close', 'previous_high', 'previous_low', 'previous_open', 'x0_ema55',\n",
    "     'x0_ema144', 'x0_ema233', 'x1_ema55', 'x1_ema144', 'x1_ema233', 'x2_ema55', 'x2_ema144', 'x2_ema233', 'x3_ema55',\n",
    "     'x3_ema144', 'x3_ema233', 'x4_ema55', 'x4_ema144', 'x4_ema233', 'x5_ema55', 'x5_ema144', 'x5_ema233', 'x6_ema55',\n",
    "     'x6_ema144', 'x6_ema233', 'x7_ema55', 'x7_ema144', 'x7_ema233', 'x8_ema55', 'x8_ema144', 'x8_ema233', 'x9_ema55',\n",
    "     'x9_ema144', 'x9_ema233', 'x10_ema55', 'x10_ema144', 'x10_ema233', 'x11_ema55', 'x11_ema144', 'x11_ema233',\n",
    "     'x0_body', 'x0_close', 'x0_ema21', 'x0_ema9', 'x0_height', 'x0_high', 'x0_low', 'x0_open', 'x0_volume', 'x10_body',\n",
    "     'x10_close', 'x10_ema21', 'x10_ema9', 'x10_height', 'x10_high', 'x10_low', 'x10_open', 'x10_volume', 'x11_body',\n",
    "     'x11_close', 'x11_close_slope', 'x11_ema21', 'x11_ema9', 'x11_height', 'x11_high', 'x11_high_slope', 'x11_low',\n",
    "     'x11_low_slope', 'x11_open', 'x11_volume', 'x11_volume_slope', 'x1_body', 'x1_close', 'x1_ema21', 'x1_ema9',\n",
    "     'x1_height', 'x1_high', 'x1_low', 'x1_open', 'x1_volume', 'x2_body', 'x2_close', 'x2_ema21', 'x2_ema9',\n",
    "     'x2_height', 'x2_high', 'x2_low', 'x2_open', 'x2_volume', 'x3_body', 'x3_close', 'x3_ema21', 'x3_ema9',\n",
    "     'x3_height', 'x3_high', 'x3_low', 'x3_open', 'x3_volume', 'x4_body', 'x4_close', 'x4_ema21', 'x4_ema9',\n",
    "     'x4_height', 'x4_high', 'x4_low', 'x4_open', 'x4_volume', 'x5_body', 'x5_close', 'x5_ema21', 'x5_ema9',\n",
    "     'x5_height', 'x5_high', 'x5_low', 'x5_open', 'x5_volume', 'x6_body', 'x6_close', 'x6_ema21', 'x6_ema9',\n",
    "     'x6_height', 'x6_high', 'x6_low', 'x6_open', 'x6_volume', 'x7_body', 'x7_close', 'x7_ema21', 'x7_ema9',\n",
    "     'x7_height', 'x7_high', 'x7_low', 'x7_open', 'x7_volume', 'x8_body', 'x8_close', 'x8_ema21', 'x8_ema9',\n",
    "     'x8_height', 'x8_high', 'x8_low', 'x8_open', 'x8_volume', 'x9_body', 'x9_close', 'x9_ema21', 'x9_ema9',\n",
    "     'x9_height', 'x9_high', 'x9_low', 'x9_open', 'x9_volume', 'current_bar_in_date', \"x0_vwap\", \"x1_vwap\", \"x2_vwap\",\n",
    "     \"x3_vwap\", \"x4_vwap\", \"x5_vwap\", \"x6_vwap\", \"x7_vwap\", \"x8_vwap\", \"x9_vwap\", \"x10_vwap\", \"x11_vwap\"})"
   ]
  },
  {
   "cell_type": "code",
   "execution_count": null,
   "id": "2cac598a-0397-420b-b6f4-b499d2e453ab",
   "metadata": {},
   "outputs": [],
   "source": [
    "SHORT_FEATURE_LIST = ['previous_close', 'previous_high', 'previous_low', 'previous_open', 'x0_ema233_close', 'x0_height', 'x0_previous_close', \n",
    "                      'x0_previous_high', 'x0_previous_low', 'x0_previous_open', 'x0_volume', 'x0_vwap', 'x10_ema233_close', 'x10_height', \n",
    "                      'x10_previous_close', 'x10_previous_high', 'x10_previous_low', 'x10_previous_open', 'x10_volume', 'x10_vwap', 'x11_ema233_close', \n",
    "                      'x11_height', 'x11_previous_close', 'x11_previous_high', 'x11_previous_low', 'x11_previous_open', 'x11_volume', 'x11_vwap', \n",
    "                      'x5_ema233_close', 'x5_height', 'x5_previous_close', 'x5_previous_high', 'x5_previous_low', 'x5_previous_open', 'x5_volume', 'x5_vwap']"
   ]
  },
  {
   "cell_type": "code",
   "execution_count": null,
   "id": "0855cfb9-d416-4701-84be-40ff4700d56e",
   "metadata": {},
   "outputs": [],
   "source": [
    "parameter_file_name = test_output_file_name = os.path.join(f\"{CURRENT_EXCHANGE}.{CURRENT_ASSET}.{CURRENT_TIMEFRAME}.{int(CURRENT_TARGET * 100)}.{int(CURRENT_STOP * 100)}.parameters.pickle\")\n",
    "parameter_full_file_name = os.path.join(DATA_OUTPUT_DIR,test_output_file_name)\n",
    "parameters = {\n",
    "    \"CURRENT_EXCHANGE\": CURRENT_EXCHANGE,\n",
    "    \"TRADE_DAY_START\": TRADE_DAY_START,\n",
    "    \"MINIMUM_TIME\" : MINIMUM_TIME,\n",
    "    \"MAXIMUM_TIME\" : MAXIMUM_TIME,\n",
    "    \"MINIMUM_DATE_DATAFRAME\" : MINIMUM_DATE_DATAFRAME,\n",
    "    \"MINIMUM_DATE_TRADE\" : MINIMUM_DATE_TRADE,\n",
    "    \"MAX_TRAIN_DATE\" : MAX_TRAIN_DATE,\n",
    "    \"MAX_TRADE_DURATION\" : MAX_TRADE_DURATION,\n",
    "    \"CURRENT_TARGET\" : CURRENT_TARGET,\n",
    "    \"CURRENT_STOP\" : CURRENT_STOP,\n",
    "    \"CURRENT_ASSET\" : CURRENT_ASSET,\n",
    "    \"CURRENT_TIMEFRAME\" : CURRENT_TIMEFRAME,\n",
    "    \"CURRENT_DAILY_FILE_CSV\" : CURRENT_DAILY_FILE_CSV,\n",
    "    \"CURRENT_5MIN_FILE_CSV\" : CURRENT_5MIN_FILE_CSV,\n",
    "    \"DECISION_BOUNDARY\": DECISION_BOUNDARY,\n",
    "    \"NUM_TREES\": NUM_TREES,\n",
    "    \"TREE_DEPTH\": TREE_DEPTH,\n",
    "    \"WEIGHT_RATIO\": WEIGHT_RATIO,\n",
    "    \"CURRENT_Y_COLUMN_SHORT\" : 'is_short',\n",
    "    \"CURRENT_Y_COLUMN_LONG\" : 'is_long',\n",
    "    \"CURRENT_X_COLUMNS\" : FULL_FEATURE_LIST\n",
    "}\n",
    "\n",
    "joblib.dump(parameters, parameter_full_file_name, True)"
   ]
  },
  {
   "cell_type": "code",
   "execution_count": null,
   "id": "e3d5e9a3-cb7a-4074-baa8-0c56d0933305",
   "metadata": {
    "tags": []
   },
   "outputs": [],
   "source": [
    "if IS_HYPER_PARAMETER_SEARCH:\n",
    "    folds = NUM_FOLDS_CROSSVALIDATION\n",
    "    \n",
    "    params_grid_search = {\n",
    "            'objective' : ['binary:logitraw'],\n",
    "            'eval_metric' : ['auc'],\n",
    "            'tree_method' : ['exact'],\n",
    "            'max_depth': [5],\n",
    "            'gamma': [1],\n",
    "            'eta': [0.3],\n",
    "            'n_estimators' : list(range(50,200,5)),\n",
    "            'scale_pos_weight' : [total_short_ratio]\n",
    "    }\n",
    "    \n",
    "    skf = StratifiedKFold(n_splits=folds, shuffle = True, random_state = 1001)\n",
    "\n",
    "    grid_search_short = GridSearchCV(XGBClassifier(use_label_encoder=False), \n",
    "                                       param_grid=params_grid_search, \n",
    "                                       scoring='roc_auc', \n",
    "                                       n_jobs=-1, cv=skf.split(df_current_total_dataset_x,df_current_total_dataset_y_short), \n",
    "                                       verbose=3 )\n",
    "\n",
    "    grid_search_short=grid_search_short.fit(df_current_total_dataset_x, df_current_total_dataset_y_short)        \n",
    "\n",
    "    print('Short Best Params:')\n",
    "    print('------------------')\n",
    "    print(grid_search_short.best_params_)\n",
    "    print('grid_search_short Best Estimator:')\n",
    "    print('------------------')\n",
    "    print(grid_search_short.best_estimator_)\n",
    "\n",
    "    best_short_booster = grid_search_short.best_estimator_.get_booster()\n",
    "    \n",
    "    hyperparam_file_name = os.path.join(f\"{CURRENT_EXCHANGE}.{CURRENT_ASSET}.{CURRENT_TIMEFRAME}.{int(CURRENT_TARGET * 100)}.{int(CURRENT_STOP * 100)}.hyperparameters_short.xlsx\")\n",
    "    hyperparam_full_file_name = os.path.join(DATA_OUTPUT_DIR,hyperparam_file_name)\n",
    "\n",
    "    results = pd.DataFrame(grid_search_short.cv_results_)\n",
    "    results.to_excel(hyperparam_full_file_name, index=False)    "
   ]
  },
  {
   "cell_type": "code",
   "execution_count": null,
   "id": "ad1b432a-a0ff-4ae2-b8b7-da64a2e1d1cc",
   "metadata": {
    "tags": []
   },
   "outputs": [],
   "source": [
    "if not IS_HYPER_PARAMETER_SEARCH:\n",
    "        \n",
    "    best_short_booster = xgb.XGBClassifier(objective=\"binary:logitraw\", \n",
    "                                  eval_metric=\"auc\",\n",
    "                                  tree_method=\"exact\",\n",
    "                                  max_depth=int(TREE_DEPTH),\n",
    "                                  gamma=1,\n",
    "                                  eta=0.3,\n",
    "                                  subsample=1.0,\n",
    "                                  colsample_bytree=1.0,\n",
    "                                  colsample_bylevel=1.0,\n",
    "                                  colsample_bynode=1.0,\n",
    "                                  use_label_encoder=False,\n",
    "                                  silent=False,                                           \n",
    "                                  n_estimators=int(NUM_TREES),\n",
    "                                  scale_pos_weight=total_short_ratio * WEIGHT_RATIO)\n",
    "    \n",
    "    best_short_booster.fit(df_current_total_dataset_x, df_current_total_dataset_y_short.to_numpy())         \n",
    "    \n",
    "    best_short_booster_score = best_short_booster.score(df_current_total_dataset_x, df_current_total_dataset_y_short.to_numpy())\n",
    "    "
   ]
  },
  {
   "cell_type": "code",
   "execution_count": null,
   "id": "ceda44ae-72b2-4925-b36f-76e2e5d70cd4",
   "metadata": {},
   "outputs": [],
   "source": [
    "if IS_HYPER_PARAMETER_SEARCH:\n",
    "    folds = NUM_FOLDS_CROSSVALIDATION\n",
    "\n",
    "    skf = StratifiedKFold(n_splits=folds, shuffle = True, random_state = 1001)\n",
    "\n",
    "    grid_search_long = GridSearchCV(XGBClassifier(use_label_encoder=False), \n",
    "                                       param_grid=params_grid_search, \n",
    "                                       scoring='roc_auc', \n",
    "                                       n_jobs=-1, cv=skf.split(df_current_total_dataset_x,df_current_total_dataset_y_long), \n",
    "                                       verbose=3 )\n",
    "\n",
    "    grid_search_long = grid_search_long.fit(df_current_total_dataset_x, df_current_total_dataset_y_long)\n",
    "    \n",
    "    print('Long Best Params:')\n",
    "    print('------------------')\n",
    "    print(grid_search_long.best_params_)\n",
    "    print('Long Best Estimator:')\n",
    "    print('------------------')\n",
    "    print(grid_search_long.best_estimator_)\n",
    "\n",
    "    best_long_booster = grid_search_long.best_estimator_.get_booster()   \n",
    "    \n",
    "    hyperparam_file_name = os.path.join(f\"{CURRENT_EXCHANGE}.{CURRENT_ASSET}.{CURRENT_TIMEFRAME}.{int(CURRENT_TARGET * 100)}.{int(CURRENT_STOP * 100)}.hyperparameters_long.xlsx\")\n",
    "    hyperparam_full_file_name = os.path.join(DATA_OUTPUT_DIR,hyperparam_file_name)\n",
    "\n",
    "    results = pd.DataFrame(grid_search_long.cv_results_)\n",
    "    results.to_excel(hyperparam_full_file_name, index=False)    "
   ]
  },
  {
   "cell_type": "code",
   "execution_count": null,
   "id": "87c4883a-1502-4434-876c-55bd5713c798",
   "metadata": {},
   "outputs": [],
   "source": [
    "if not IS_HYPER_PARAMETER_SEARCH:\n",
    "        \n",
    "    best_long_booster = xgb.XGBClassifier(objective=\"binary:logitraw\", \n",
    "                                  eval_metric=\"auc\",\n",
    "                                  tree_method=\"exact\",\n",
    "                                  max_depth=int(TREE_DEPTH),\n",
    "                                  gamma=1,\n",
    "                                  eta=0.3,\n",
    "                                  subsample=1.0,\n",
    "                                  colsample_bytree=1.0,\n",
    "                                  colsample_bylevel=1.0,\n",
    "                                  colsample_bynode=1.0,\n",
    "                                  use_label_encoder=False,\n",
    "                                  n_estimators=int(NUM_TREES),\n",
    "                                  silent=False,\n",
    "                                  scale_pos_weight=total_long_ratio * WEIGHT_RATIO)\n",
    "    \n",
    "    best_long_booster.fit(df_current_total_dataset_x, df_current_total_dataset_y_long.to_numpy())  \n",
    "    \n",
    "    best_long_booster_score = best_long_booster.score(df_current_total_dataset_x, df_current_total_dataset_y_long.to_numpy())"
   ]
  },
  {
   "cell_type": "code",
   "execution_count": null,
   "id": "d74f74db-5fd1-45cd-8882-06bb547f3c93",
   "metadata": {},
   "outputs": [],
   "source": [
    "feature_importance = best_short_booster.get_booster().get_score(importance_type='weight')\n",
    "\n",
    "features = []\n",
    "for current_key in list(feature_importance.keys()):\n",
    "    features.append({ 'feature': current_key, 'value' : feature_importance[current_key]})\n",
    "\n",
    "features.sort(key=lambda x:x['value'], reverse=True)    \n",
    "    \n",
    "data = pd.DataFrame(features)\n",
    "feature_file_name = os.path.join(f\"{CURRENT_EXCHANGE}.{CURRENT_ASSET}.{CURRENT_TIMEFRAME}.{int(CURRENT_TARGET * 100)}.{int(CURRENT_STOP * 100)}.hyperparameters_short.xlsx\")\n",
    "feature_full_file_name = os.path.join(DATA_OUTPUT_DIR,feature_file_name)\n",
    "data.to_excel(feature_full_file_name, index=False)    \n",
    "\n",
    "data.head(20)"
   ]
  },
  {
   "cell_type": "code",
   "execution_count": null,
   "id": "9f8714c7-5b6d-4988-863d-4a402b36adbf",
   "metadata": {},
   "outputs": [],
   "source": [
    "feature_importance = best_long_booster.get_booster().get_score(importance_type='weight')\n",
    "\n",
    "features = []\n",
    "for current_key in list(feature_importance.keys()):\n",
    "    features.append({ 'feature': current_key, 'value' : feature_importance[current_key]})\n",
    "\n",
    "features.sort(key=lambda x:x['value'], reverse=True)    \n",
    "    \n",
    "data = pd.DataFrame(features)\n",
    "feature_file_name = os.path.join(f\"{CURRENT_EXCHANGE}.{CURRENT_ASSET}.{CURRENT_TIMEFRAME}.{int(CURRENT_TARGET * 100)}.{int(CURRENT_STOP * 100)}.hyperparameters_long.xlsx\")\n",
    "feature_full_file_name = os.path.join(DATA_OUTPUT_DIR,feature_file_name)\n",
    "data.to_excel(feature_full_file_name, index=False)    \n",
    "\n",
    "data.head(20)"
   ]
  },
  {
   "cell_type": "code",
   "execution_count": null,
   "id": "4114c28c-9fe1-4cbe-a0fe-5c17854131c3",
   "metadata": {},
   "outputs": [],
   "source": [
    "if SHAP_ENABLED:\n",
    "    shap.initjs()\n",
    "    explainer = shap.TreeExplainer(best_long_booster)\n",
    "    shap_values = explainer.shap_values(df_current_total_dataset_x)\n",
    "    shap.force_plot(explainer.expected_value, shap_values[0,:], df_current_total_dataset_x.iloc[0,:])"
   ]
  },
  {
   "cell_type": "code",
   "execution_count": null,
   "id": "f67846ee-036e-4712-89a4-e33b11ac96b7",
   "metadata": {},
   "outputs": [],
   "source": [
    "if SHAP_ENABLED:\n",
    "    shap.initjs()\n",
    "    shap_values = shap.TreeExplainer(best_long_booster).shap_values(df_current_total_dataset_x)\n",
    "    shap.summary_plot(shap_values, df_current_total_dataset_x, plot_type=\"bar\")"
   ]
  },
  {
   "cell_type": "code",
   "execution_count": null,
   "id": "74b4c4c6-049e-4e6b-ba02-9cc07fed6bf0",
   "metadata": {},
   "outputs": [],
   "source": [
    "if SHAP_ENABLED:\n",
    "    shap.initjs()\n",
    "    explainer = shap.TreeExplainer(best_short_booster)\n",
    "    shap_values = explainer.shap_values(df_current_total_dataset_x)\n",
    "    shap.force_plot(explainer.expected_value, shap_values[0,:], df_current_total_dataset_x.iloc[0,:])"
   ]
  },
  {
   "cell_type": "code",
   "execution_count": null,
   "id": "aeeed018-cb79-49e7-8d30-4c0147ed3eff",
   "metadata": {},
   "outputs": [],
   "source": [
    "if SHAP_ENABLED:\n",
    "    shap.initjs()\n",
    "    shap_values = shap.TreeExplainer(best_short_booster).shap_values(df_current_total_dataset_x)\n",
    "    shap.summary_plot(shap_values, df_current_total_dataset_x, plot_type=\"bar\")"
   ]
  },
  {
   "cell_type": "code",
   "execution_count": null,
   "id": "6715490b-6322-4c03-ba3a-fe1463b89d9c",
   "metadata": {},
   "outputs": [],
   "source": [
    "CURRENT_EXCHANGE = current_parameters['CURRENT_EXCHANGE']\n",
    "CURRENT_ASSET = current_parameters['CURRENT_ASSET']\n",
    "CURRENT_TIMEFRAME = current_parameters['CURRENT_TIMEFRAME']\n",
    "CURRENT_TARGET = current_parameters['CURRENT_TARGET']\n",
    "CURRENT_STOP = current_parameters['CURRENT_STOP']"
   ]
  },
  {
   "cell_type": "code",
   "execution_count": null,
   "id": "c214f38f-059a-4c8f-a61d-02178f4cb129",
   "metadata": {},
   "outputs": [],
   "source": [
    "def predict_short(row):\n",
    "    a = row[current_parameters['CURRENT_X_COLUMNS']].to_numpy().reshape(1,-1)\n",
    "    return best_short_booster.get_booster().inplace_predict(a)[0]\n",
    "\n",
    "def predict_long(row):\n",
    "    a = row[current_parameters['CURRENT_X_COLUMNS']].to_numpy().reshape(1,-1)\n",
    "    return best_long_booster.get_booster().inplace_predict(a)[0]\n",
    "\n",
    "df_current_total_dataset['short_predict'] = df_current_total_dataset.apply( lambda row: predict_short(row), axis=1)\n",
    "df_current_total_dataset['long_predict'] = df_current_total_dataset.apply( lambda row: predict_long(row), axis=1)\n"
   ]
  },
  {
   "cell_type": "code",
   "execution_count": null,
   "id": "47c39a66-0cb9-4df0-b39c-905193b6d9a9",
   "metadata": {},
   "outputs": [],
   "source": [
    "current_total_dataset = None\n",
    "dataset_matrix_short_test = None\n",
    "dataset_matrix_long_test = None\n",
    "dataset_matrix_short_train = None\n",
    "dataset_matrix_long_train = None\n",
    "\n",
    "df_current_test_dataset = None\n",
    "current_test_dataset = None\n",
    "df_current_test_dataset_x = None\n",
    "df_current_test_dataset_y_short = None\n",
    "df_current_test_dataset_y_long = None\n",
    "\n",
    "df_current_train_dataset = None\n",
    "current_train_dataset = None\n",
    "df_current_train_dataset_x = None\n",
    "df_current_train_dataset_y_short = None\n",
    "df_current_train_dataset_y_long = None\n",
    "\n",
    "gc.collect()"
   ]
  },
  {
   "cell_type": "code",
   "execution_count": null,
   "id": "cec742b5-eeba-4e53-b40f-d0966f107463",
   "metadata": {},
   "outputs": [],
   "source": [
    "total_output_file_name = f\"{CURRENT_EXCHANGE}.{CURRENT_ASSET}.{CURRENT_TIMEFRAME}.{int(CURRENT_TARGET * 100)}.{int(CURRENT_STOP * 100)}.xlsx\"\n",
    "total_output_full_file_name = os.path.join(DATA_OUTPUT_DIR,total_output_file_name)"
   ]
  },
  {
   "cell_type": "code",
   "execution_count": null,
   "id": "56291bb7-8850-46fc-ab1b-5dd20fa7c171",
   "metadata": {},
   "outputs": [],
   "source": [
    "df_current_total_dataset = None\n",
    "gc.collect()"
   ]
  },
  {
   "cell_type": "code",
   "execution_count": null,
   "id": "3986d0f3-0560-407a-97dc-f2eff7ef1404",
   "metadata": {},
   "outputs": [],
   "source": [
    "model_file_name = os.path.join(f\"{CURRENT_EXCHANGE}.{CURRENT_ASSET}.{CURRENT_TIMEFRAME}.{int(CURRENT_TARGET * 100)}.{int(CURRENT_STOP * 100)}.xgboostshortmodel.txt\")\n",
    "model_full_file_name = os.path.join(DATA_OUTPUT_DIR,model_file_name)\n",
    "\n",
    "best_short_booster.get_booster().dump_model(model_full_file_name)"
   ]
  },
  {
   "cell_type": "code",
   "execution_count": null,
   "id": "d60a1e55-01e8-45bb-a124-635ff381d53e",
   "metadata": {},
   "outputs": [],
   "source": [
    "model_file_name = os.path.join(f\"{CURRENT_EXCHANGE}.{CURRENT_ASSET}.{CURRENT_TIMEFRAME}.{int(CURRENT_TARGET * 100)}.{int(CURRENT_STOP * 100)}.xgboostlongmodel.txt\")\n",
    "model_full_file_name = os.path.join(DATA_OUTPUT_DIR,model_file_name)\n",
    "\n",
    "best_long_booster.get_booster().dump_model(model_full_file_name)"
   ]
  },
  {
   "cell_type": "code",
   "execution_count": null,
   "id": "8bd48dd1-2623-454d-9e2b-cb8b035bf3da",
   "metadata": {},
   "outputs": [],
   "source": [
    "model_file_name = os.path.join(f\"{CURRENT_EXCHANGE}.{CURRENT_ASSET}.{CURRENT_TIMEFRAME}.{int(CURRENT_TARGET * 100)}.{int(CURRENT_STOP * 100)}.xgboostshortmodel.pickle\")\n",
    "model_full_file_name = os.path.join(DATA_OUTPUT_DIR,model_file_name)\n",
    "\n",
    "joblib.dump(best_short_booster, model_full_file_name, True)"
   ]
  },
  {
   "cell_type": "code",
   "execution_count": null,
   "id": "45cc019d-f0d4-4645-8e3e-a95875946243",
   "metadata": {},
   "outputs": [],
   "source": [
    "model_file_name = os.path.join(f\"{CURRENT_EXCHANGE}.{CURRENT_ASSET}.{CURRENT_TIMEFRAME}.{int(CURRENT_TARGET * 100)}.{int(CURRENT_STOP * 100)}.xgboostlongmodel.pickle\")\n",
    "model_full_file_name = os.path.join(DATA_OUTPUT_DIR,model_file_name)\n",
    "\n",
    "joblib.dump(best_long_booster, model_full_file_name, True)"
   ]
  },
  {
   "cell_type": "code",
   "execution_count": null,
   "id": "d1667bc8-efa9-49f8-a71d-47e1a11e762d",
   "metadata": {},
   "outputs": [],
   "source": [
    "model_file_name = os.path.join(f\"{CURRENT_EXCHANGE}.{CURRENT_ASSET}.{CURRENT_TIMEFRAME}.{int(CURRENT_TARGET * 100)}.{int(CURRENT_STOP * 100)}.xgboostlongmodel.pickle\")"
   ]
  },
  {
   "cell_type": "code",
   "execution_count": null,
   "id": "5895a47b-6fb8-4b98-844f-0954d0ddb9b2",
   "metadata": {},
   "outputs": [],
   "source": [
    "long_score = os.path.join(f\"{CURRENT_EXCHANGE}.{CURRENT_ASSET}.{CURRENT_TIMEFRAME}.{int(CURRENT_TARGET * 100)}.{int(CURRENT_STOP * 100)}.long.train.score.txt\")\n",
    "long_score_file_name = os.path.join(DATA_OUTPUT_DIR,long_score)\n",
    "\n",
    "short_score = os.path.join(f\"{CURRENT_EXCHANGE}.{CURRENT_ASSET}.{CURRENT_TIMEFRAME}.{int(CURRENT_TARGET * 100)}.{int(CURRENT_STOP * 100)}.short.train.score.txt\")\n",
    "short_score_file_name = os.path.join(DATA_OUTPUT_DIR,short_score)\n",
    "\n",
    "with open(long_score_file_name,\"w\") as f:\n",
    "    f.write(str(best_long_booster_score))\n",
    "\n",
    "with open(short_score_file_name,\"w\") as f:\n",
    "    f.write(str(best_short_booster_score))"
   ]
  },
  {
   "cell_type": "code",
   "execution_count": null,
   "id": "9a13d799-8f2c-49e8-96c5-767943ef1cfa",
   "metadata": {},
   "outputs": [],
   "source": [
    "if IS_HYPER_PARAMETER_SEARCH:\n",
    "    model_file_name = os.path.join(f\"{CURRENT_EXCHANGE}.{CURRENT_ASSET}.{CURRENT_TIMEFRAME}.{int(CURRENT_TARGET * 100)}.{int(CURRENT_STOP * 100)}.xgboostclassifiershortmodel.pickle\")\n",
    "    model_full_file_name = os.path.join(DATA_OUTPUT_DIR,model_file_name)\n",
    "\n",
    "    joblib.dump(grid_search_short.best_estimator_, model_full_file_name, True)"
   ]
  },
  {
   "cell_type": "code",
   "execution_count": null,
   "id": "6126ee35-0bf7-4249-9e13-2fc9381515eb",
   "metadata": {},
   "outputs": [],
   "source": [
    "if IS_HYPER_PARAMETER_SEARCH:\n",
    "    model_file_name = os.path.join(f\"{CURRENT_EXCHANGE}.{CURRENT_ASSET}.{CURRENT_TIMEFRAME}.{int(CURRENT_TARGET * 100)}.{int(CURRENT_STOP * 100)}.xgboostclassifierlongmodel.pickle\")\n",
    "    model_full_file_name = os.path.join(DATA_OUTPUT_DIR,model_file_name)\n",
    "\n",
    "    joblib.dump(grid_search_long.best_estimator_, model_full_file_name, True)"
   ]
  },
  {
   "cell_type": "code",
   "execution_count": null,
   "id": "51d988c3-2466-4d4b-9fa3-a89b69dd02e0",
   "metadata": {},
   "outputs": [],
   "source": []
  }
 ],
 "metadata": {
  "kernelspec": {
   "display_name": "Python 3 (ipykernel)",
   "language": "python",
   "name": "python3"
  },
  "language_info": {
   "codemirror_mode": {
    "name": "ipython",
    "version": 3
   },
   "file_extension": ".py",
   "mimetype": "text/x-python",
   "name": "python",
   "nbconvert_exporter": "python",
   "pygments_lexer": "ipython3",
   "version": "3.9.6"
  }
 },
 "nbformat": 4,
 "nbformat_minor": 5
}
