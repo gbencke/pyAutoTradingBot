{
 "cells": [
  {
   "cell_type": "markdown",
   "metadata": {},
   "source": [
    "# pyAutoTradingBot"
   ]
  },
  {
   "cell_type": "markdown",
   "metadata": {},
   "source": [
    "## Open Trade Strategy - Import Data"
   ]
  },
  {
   "cell_type": "code",
   "execution_count": 1,
   "metadata": {},
   "outputs": [],
   "source": [
    "import os\n",
    "import pandas as pd\n",
    "from PIL import Image, ImageDraw"
   ]
  },
  {
   "cell_type": "code",
   "execution_count": 2,
   "metadata": {},
   "outputs": [],
   "source": [
    "\n",
    "csv_diario = pd.read_csv(os.path.join('input','WDOFUT_F_0_Diario.csv'), sep=';')\n",
    "csv_15min = pd.read_csv(os.path.join('input','WDOFUT_F_0_15min.csv'), sep=';') \n",
    "\n",
    "data_daily = csv_diario.to_dict('records')\n",
    "data_15min = csv_15min.to_dict('records')\n",
    "\n",
    "data_daily = data_daily[1:]\n",
    "data_15min = data_15min[1:]"
   ]
  },
  {
   "cell_type": "code",
   "execution_count": 3,
   "metadata": {},
   "outputs": [],
   "source": [
    "def convert(x):\n",
    "    return float(x.replace(',','.'))\n",
    "\n",
    "def convert_date(x):\n",
    "    tokens = x.split('/')\n",
    "    return tokens[2] + tokens[1] + tokens[0]\n",
    "\n",
    "def convert_time(x):\n",
    "    tokens = x.split(\":\")\n",
    "    return int(tokens[0] + tokens[1])"
   ]
  },
  {
   "cell_type": "code",
   "execution_count": 4,
   "metadata": {},
   "outputs": [],
   "source": [
    "\n",
    "\n",
    "data_15min = [{'Asset': d['Asset'],\n",
    "               'Date': convert_date(d['Date']), \n",
    "               'Time': convert_time(d['Time']), \n",
    "               'Open': convert(d['Open']), \n",
    "               'High': convert(d['High']), \n",
    "               'Low': convert(d['Low']), \n",
    "               'Close': convert(d['Close']), \n",
    "               'Volume': convert(d['Volume']),\n",
    "               'Trades': d['Trades']}\n",
    "               for d in data_15min]\n",
    "data_daily = [{'Asset': d['Asset'],\n",
    "               'Date': convert_date(d['Date']), \n",
    "               'Open': convert(d['Open']), \n",
    "               'High': convert(d['High']), \n",
    "               'Low': convert(d['Low']), \n",
    "               'Close': convert(d['Close']), \n",
    "               'Volume': convert(d['Volume']),\n",
    "               'Trades': d['Trades']}\n",
    "               for d in data_daily]\n",
    "\n",
    "sorted(data_15min, key=lambda x: x['Date'], reverse=True)\n",
    "sorted(data_daily, key=lambda x: x['Date'], reverse=True)\n",
    "\n",
    "days_in_15min = sorted(set([x['Date'] for x in data_15min]))\n",
    "days_in_daily = sorted(set([x['Date'] for x in data_daily]))\n",
    "\n",
    "data_daily = [x for x in data_daily if x['Date'] in days_in_15min]"
   ]
  },
  {
   "cell_type": "markdown",
   "metadata": {},
   "source": []
  },
  {
   "cell_type": "code",
   "execution_count": 5,
   "metadata": {},
   "outputs": [],
   "source": [
    "returned_coefs = []\n",
    "\n",
    "for i, current_day in enumerate(data_daily):\n",
    "    if i > 3:\n",
    "        first_open = data_daily[i-3]['Open']\n",
    "\n",
    "        current_date = data_daily[i]['Date']\n",
    "\n",
    "        open_x1 = 1\n",
    "        high_x1 = ((data_daily[i-3]['High'] / first_open) - 1) * 100 \n",
    "        close_x1 = ((data_daily[i-3]['Close'] /first_open) - 1) * 100\n",
    "        low_x1 = ((data_daily[i-3]['Low'] / first_open) - 1) * 100\n",
    "\n",
    "        last_close = data_daily[i-3]['Close']\n",
    "\n",
    "        open_x2 = ((data_daily[i-2]['Open'] / last_close) -1) * 100\n",
    "        high_x2 = ((data_daily[i-2]['High'] / last_close) -1) * 100\n",
    "        close_x2 = ((data_daily[i-2]['Close'] / last_close) -1) * 100\n",
    "        low_x2 = ((data_daily[i-2]['Low'] / last_close) -1) * 100\n",
    "\n",
    "        last_close = data_daily[i-2]['Close']\n",
    "\n",
    "        open_x3 = ((data_daily[i-1]['Open'] / last_close) -1) * 100\n",
    "        high_x3 = ((data_daily[i-1]['High'] / last_close) -1) * 100\n",
    "        close_x3 = ((data_daily[i-1]['Close'] / last_close) -1) * 100\n",
    "        low_x3 = ((data_daily[i-1]['Low'] / last_close) -1) * 100\n",
    "\n",
    "        last_close = data_daily[i-1]['Close']\n",
    "\n",
    "        current_open = ((data_daily[i]['Open'] / last_close) - 1) * 100\n",
    "\n",
    "        current_values = [open_x1, high_x1, close_x1, low_x1, open_x2, high_x2, close_x2,\n",
    "                          low_x2, open_x3, high_x3, close_x3, low_x3, current_open]\n",
    "\n",
    "        current_values_abs=[abs(x) for x in current_values]\n",
    "\n",
    "        returned_coefs.append({\n",
    "            'date': current_date,\n",
    "            'first_open': first_open,\n",
    "\n",
    "            'open_x1': open_x1,\n",
    "            'high_x1': high_x1,\n",
    "            'close_x1': close_x1,\n",
    "            'low_x1': low_x1,\n",
    "\n",
    "            'open_x2': open_x2,\n",
    "            'high_x2': high_x2,\n",
    "            'close_x2': close_x2,\n",
    "            'low_x2': low_x2,\n",
    "\n",
    "            'open_x3': open_x3,\n",
    "            'high_x3': high_x3,\n",
    "            'close_x3': close_x3,\n",
    "            'low_x3': low_x3,\n",
    "\n",
    "            'current_open' : current_open,\n",
    "            'values': current_values,\n",
    "            'absvalues': current_values_abs\n",
    "            })"
   ]
  },
  {
   "cell_type": "code",
   "execution_count": 6,
   "metadata": {},
   "outputs": [
    {
     "name": "stdout",
     "output_type": "stream",
     "text": [
      "{'date': '20211011', 'first_open': 5501.0, 'open_x1': 1, 'high_x1': 0.34539174695509267, 'close_x1': -0.4726413379385619, 'low_x1': -0.9816397018723833, 'open_x2': 0.21917808219178436, 'high_x2': 1.2785388127853903, 'close_x2': 0.9589041095890316, 'low_x2': 0.10045662100457431, 'open_x3': 0.09045680687471691, 'high_x3': 1.1126187245590335, 'close_x3': 0.05427408412483903, 'low_x3': -0.23518769787426175, 'current_open': -0.24410089503661414, 'values': [1, 0.34539174695509267, -0.4726413379385619, -0.9816397018723833, 0.21917808219178436, 1.2785388127853903, 0.9589041095890316, 0.10045662100457431, 0.09045680687471691, 1.1126187245590335, 0.05427408412483903, -0.23518769787426175, -0.24410089503661414], 'absvalues': [1, 0.34539174695509267, 0.4726413379385619, 0.9816397018723833, 0.21917808219178436, 1.2785388127853903, 0.9589041095890316, 0.10045662100457431, 0.09045680687471691, 1.1126187245590335, 0.05427408412483903, 0.23518769787426175, 0.24410089503661414]}\n",
      "1.2785388127853903\n"
     ]
    }
   ],
   "source": [
    "\n",
    "current_x = returned_coefs[0]\n",
    "\n",
    "max_y = max(current_x['absvalues'])\n",
    "\n",
    "print(current_x)\n",
    "print(max_y)"
   ]
  },
  {
   "cell_type": "code",
   "execution_count": 7,
   "metadata": {},
   "outputs": [],
   "source": [
    "img = Image.new(\"RGB\", (200,200), (255,255,255))\n",
    "\n",
    "img1 = ImageDraw.Draw(img)\n",
    "img1.ellipse(((0,95),(10,105)),(255,0,0),(255,0,0),2)\n",
    "\n",
    "\n",
    "current_close = current_x['close_x1']\n",
    "negative = current_close < 0\n",
    "current_y = abs(current_close) / max_y\n",
    "current_y_pos = 100 - (current_y * 100) if negative else 100 + (current_y * 100)\n",
    "img1.line(((5,100), (50, current_y_pos )), (255,0,0), 2)\n",
    "\n",
    "img1.ellipse(((45,current_y_pos - 5),(55,current_y_pos + 5)), (255,0,0), 2)\n",
    "\n",
    "current_high = current_x['high_x1']\n",
    "current_low = current_x['low_x1']\n",
    "negative_high = current_high < 0\n",
    "negative_low = current_low < 0\n",
    "current_y_high = abs(current_high) / max_y\n",
    "current_y_low = abs(current_low) / max_y\n",
    "current_y_high_pos = 100 - (current_y_high * 100) if negative_high else 100 + (current_y_high * 100)\n",
    "current_y_low_pos = 100 - (current_y_low * 100) if negative_low else 100 + (current_y_low * 100)\n",
    "img1.line(((20,current_y_low_pos), (40, current_y_high_pos)), (255,0,0), 2)\n",
    "\n",
    "img.show()"
   ]
  }
 ],
 "metadata": {
  "interpreter": {
   "hash": "8ffb1143ecc0963cba94777dbfa43023ef4db0ecebae5c9573db094a273dfb99"
  },
  "kernelspec": {
   "display_name": "Python 3.9.6 64-bit ('env': venv)",
   "name": "python3"
  },
  "language_info": {
   "codemirror_mode": {
    "name": "ipython",
    "version": 3
   },
   "file_extension": ".py",
   "mimetype": "text/x-python",
   "name": "python",
   "nbconvert_exporter": "python",
   "pygments_lexer": "ipython3",
   "version": "3.9.6"
  },
  "orig_nbformat": 4
 },
 "nbformat": 4,
 "nbformat_minor": 2
}
