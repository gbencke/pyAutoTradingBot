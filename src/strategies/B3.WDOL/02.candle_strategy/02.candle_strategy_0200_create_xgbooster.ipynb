{
 "cells": [
  {
   "cell_type": "code",
   "execution_count": null,
   "id": "a3a3ed75-09cb-436d-b636-daf021dfa5c1",
   "metadata": {
    "execution": {
     "iopub.execute_input": "2022-01-09T12:52:34.650762Z",
     "iopub.status.busy": "2022-01-09T12:52:34.647760Z",
     "iopub.status.idle": "2022-01-09T12:52:34.656840Z",
     "shell.execute_reply": "2022-01-09T12:52:34.657842Z"
    }
   },
   "outputs": [],
   "source": [
    "SHAP_ENABLED=False"
   ]
  },
  {
   "cell_type": "code",
   "execution_count": null,
   "id": "df06572e-1d31-4ed8-8cac-9993379ee28d",
   "metadata": {
    "execution": {
     "iopub.execute_input": "2022-01-09T12:52:34.662837Z",
     "iopub.status.busy": "2022-01-09T12:52:34.662837Z",
     "iopub.status.idle": "2022-01-09T12:52:41.172424Z",
     "shell.execute_reply": "2022-01-09T12:52:41.171403Z"
    }
   },
   "outputs": [],
   "source": [
    "import os\n",
    "import pandas as pd\n",
    "import numpy as np\n",
    "import joblib\n",
    "import xgboost as xgb\n",
    "import gc\n",
    "import matplotlib\n",
    "from sklearn.metrics import accuracy_score,precision_score,recall_score, confusion_matrix,roc_auc_score\n",
    "from sklearn.model_selection import RandomizedSearchCV, GridSearchCV, StratifiedKFold\n",
    "from xgboost import XGBClassifier\n",
    "\n",
    "if SHAP_ENABLED:\n",
    "    import shap"
   ]
  },
  {
   "cell_type": "code",
   "execution_count": null,
   "id": "701d79e4-cd38-469f-818f-daad82c72119",
   "metadata": {
    "execution": {
     "iopub.execute_input": "2022-01-09T12:52:41.180398Z",
     "iopub.status.busy": "2022-01-09T12:52:41.179399Z",
     "iopub.status.idle": "2022-01-09T12:52:41.188022Z",
     "shell.execute_reply": "2022-01-09T12:52:41.189022Z"
    }
   },
   "outputs": [],
   "source": [
    "import platform\n",
    "\n",
    "SHOULD_GENERATE_IMAGES = platform.system() == 'Windows'\n",
    "if \"SHOULD_GENERATE_IMAGES\" in os.environ:\n",
    "    SHOULD_GENERATE_IMAGES = True"
   ]
  },
  {
   "cell_type": "code",
   "execution_count": null,
   "id": "8155efc1-ab59-45cd-9d79-75605cbe73c4",
   "metadata": {
    "execution": {
     "iopub.execute_input": "2022-01-09T12:52:41.196370Z",
     "iopub.status.busy": "2022-01-09T12:52:41.195366Z",
     "iopub.status.idle": "2022-01-09T12:52:41.202436Z",
     "shell.execute_reply": "2022-01-09T12:52:41.203435Z"
    }
   },
   "outputs": [],
   "source": [
    "IS_HYPER_PARAMETER_SEARCH = False\n",
    "NUM_FOLDS_CROSSVALIDATION = 10\n",
    "NUM_TREES = 120\n",
    "\n",
    "DATA_OUTPUT_DIR = os.path.join('..','00.data','output')\n",
    "DATA_HYPERPARAMETERS_DIR = os.path.join('..','00.data','hyperparameters')"
   ]
  },
  {
   "cell_type": "code",
   "execution_count": null,
   "id": "97807fae-c040-4d7b-9a76-176eaabd0e1c",
   "metadata": {
    "execution": {
     "iopub.execute_input": "2022-01-09T12:52:41.213434Z",
     "iopub.status.busy": "2022-01-09T12:52:41.212431Z",
     "iopub.status.idle": "2022-01-09T12:52:41.219427Z",
     "shell.execute_reply": "2022-01-09T12:52:41.218427Z"
    }
   },
   "outputs": [],
   "source": [
    "if \"IS_HYPER_PARAMETER_SEARCH\" in os.environ:\n",
    "    IS_HYPER_PARAMETER_SEARCH = bool(os.environ[\"IS_HYPER_PARAMETER_SEARCH\"])\n",
    "    \n",
    "if \"NUM_FOLDS_CROSSVALIDATION\" in os.environ:\n",
    "    NUM_FOLDS_CROSSVALIDATION = int(os.environ[\"NUM_FOLDS_CROSSVALIDATION\"])\n",
    "    \n",
    "if \"DATA_OUTPUT_DIR\" in os.environ:\n",
    "    DATA_OUTPUT_DIR = os.environ[\"DATA_OUTPUT_DIR\"]\n",
    "    \n",
    "if \"DATA_HYPERPARAMETERS_DIR\" in os.environ:\n",
    "    DATA_HYPERPARAMETERS_DIR = os.environ[\"DATA_HYPERPARAMETERS_DIR\"]    \n",
    "    \n",
    "if \"NUM_TREES\" in os.environ:\n",
    "    NUM_TREES = os.environ[\"NUM_TREES\"]"
   ]
  },
  {
   "cell_type": "code",
   "execution_count": null,
   "id": "9e10e7ab-2903-4a29-9dd4-264e072c6bdc",
   "metadata": {
    "execution": {
     "iopub.execute_input": "2022-01-09T12:52:41.228421Z",
     "iopub.status.busy": "2022-01-09T12:52:41.228421Z",
     "iopub.status.idle": "2022-01-09T12:52:41.249883Z",
     "shell.execute_reply": "2022-01-09T12:52:41.249883Z"
    }
   },
   "outputs": [],
   "source": [
    "files_found = [x for x in os.listdir(DATA_OUTPUT_DIR) if x.endswith('.pickle')]\n",
    "files_found_tokens=[x.split('.') for x in files_found]\n",
    "\n",
    "models_found = {}\n",
    "\n",
    "for current_model in files_found_tokens:\n",
    "    model_name = '.'.join(current_model[:-2])\n",
    "    filename = os.path.join(DATA_OUTPUT_DIR,'.'.join(current_model))\n",
    "    if not model_name in models_found:\n",
    "        models_found[model_name]= {}          \n",
    "    models_found[model_name][current_model[-2]]=filename\n",
    "\n",
    "print(models_found)"
   ]
  },
  {
   "cell_type": "code",
   "execution_count": null,
   "id": "c5f2970e-b483-495f-bab2-02cde3318901",
   "metadata": {
    "execution": {
     "iopub.execute_input": "2022-01-09T12:52:41.253860Z",
     "iopub.status.busy": "2022-01-09T12:52:41.251867Z",
     "iopub.status.idle": "2022-01-09T12:54:03.315699Z",
     "shell.execute_reply": "2022-01-09T12:54:03.315699Z"
    }
   },
   "outputs": [],
   "source": [
    "first_model = list(models_found.keys())[0]\n",
    "current_total_dataset = joblib.load(models_found[first_model]['total'])\n",
    "current_parameters = joblib.load(models_found[first_model]['parameters'])"
   ]
  },
  {
   "cell_type": "code",
   "execution_count": null,
   "id": "b4d8c33f-75e3-4c6a-be7b-b41f2fc4b0a5",
   "metadata": {
    "execution": {
     "iopub.execute_input": "2022-01-09T12:54:03.471590Z",
     "iopub.status.busy": "2022-01-09T12:54:03.408627Z",
     "iopub.status.idle": "2022-01-09T12:54:14.514562Z",
     "shell.execute_reply": "2022-01-09T12:54:14.513564Z"
    }
   },
   "outputs": [],
   "source": [
    "df_current_total_dataset = pd.DataFrame(current_total_dataset)\n",
    "df_current_total_dataset_x = df_current_total_dataset[current_parameters['CURRENT_X_COLUMNS']]\n",
    "df_current_total_dataset_y_short = df_current_total_dataset[current_parameters['CURRENT_Y_COLUMN_SHORT']]\n",
    "df_current_total_dataset_y_long = df_current_total_dataset[current_parameters['CURRENT_Y_COLUMN_LONG']]\n",
    "\n",
    "total_total_count = len(df_current_total_dataset)\n",
    "total_short_count = len([x for x in df_current_total_dataset_y_short if x == True])\n",
    "total_long_count = len([x for x in df_current_total_dataset_y_long if x == True])\n",
    "total_long_ratio = (total_total_count - total_long_count) / total_long_count\n",
    "total_short_ratio = (total_total_count - total_short_count) / total_short_count\n",
    "\n",
    "print(f'(train)Short Count:{total_short_count}/{total_total_count} {(total_short_count/total_total_count) * 100:.2f}%')\n",
    "print(f'(train)Long Count:{total_long_count}/{total_total_count}  {(total_long_count/total_total_count) * 100:.2f}%')\n",
    "print(f'(train)Long Ratio:{total_long_ratio:.2f}')\n",
    "print(f'(train)Short Ratio:{total_short_ratio:.2f}')"
   ]
  },
  {
   "cell_type": "code",
   "execution_count": null,
   "id": "1a57d0a7-5f35-419c-aa8b-23cbb5a5a3a3",
   "metadata": {
    "execution": {
     "iopub.execute_input": "2022-01-09T12:54:14.519560Z",
     "iopub.status.busy": "2022-01-09T12:54:14.518562Z",
     "iopub.status.idle": "2022-01-09T12:54:14.530586Z",
     "shell.execute_reply": "2022-01-09T12:54:14.530586Z"
    }
   },
   "outputs": [],
   "source": [
    "CURRENT_ASSET = current_parameters['CURRENT_ASSET']\n",
    "CURRENT_TIMEFRAME = current_parameters['CURRENT_TIMEFRAME']\n",
    "CURRENT_TARGET = current_parameters['CURRENT_TARGET']\n",
    "CURRENT_STOP = current_parameters['CURRENT_STOP']\n",
    "DECISION_BOUNDARY = current_parameters['DECISION_BOUNDARY']"
   ]
  },
  {
   "cell_type": "code",
   "execution_count": null,
   "id": "e3d5e9a3-cb7a-4074-baa8-0c56d0933305",
   "metadata": {
    "execution": {
     "iopub.execute_input": "2022-01-09T12:54:14.537582Z",
     "iopub.status.busy": "2022-01-09T12:54:14.536582Z",
     "iopub.status.idle": "2022-01-09T12:54:14.545222Z",
     "shell.execute_reply": "2022-01-09T12:54:14.546220Z"
    }
   },
   "outputs": [],
   "source": [
    "folds = NUM_FOLDS_CROSSVALIDATION\n",
    "\n",
    "if IS_HYPER_PARAMETER_SEARCH:\n",
    "    params_grid_search = {\n",
    "            'objective' : ['binary:logitraw'],\n",
    "            'eval_metric' : ['auc'],\n",
    "            'tree_method' : ['exact'],\n",
    "            'max_depth': [5],\n",
    "            'gamma': [1],\n",
    "            'eta': [0.3],\n",
    "            'n_estimators' : list(range(50,200,5)),\n",
    "            'scale_pos_weight' : [total_short_ratio]\n",
    "}\n",
    "else:\n",
    "    params_grid_search = {\n",
    "           'objective' : ['binary:logitraw'],\n",
    "            'eval_metric' : ['auc'],\n",
    "            'tree_method' : ['exact'],\n",
    "            'max_depth': [5],\n",
    "            'gamma': [1],\n",
    "            'eta': [0.3],\n",
    "            'n_estimators' : [NUM_TREES],\n",
    "            'scale_pos_weight' : [total_short_ratio]\n",
    "    }"
   ]
  },
  {
   "cell_type": "code",
   "execution_count": null,
   "id": "ad1b432a-a0ff-4ae2-b8b7-da64a2e1d1cc",
   "metadata": {
    "execution": {
     "iopub.execute_input": "2022-01-09T12:54:14.637615Z",
     "iopub.status.busy": "2022-01-09T12:54:14.637615Z",
     "iopub.status.idle": "2022-01-09T13:15:37.779581Z",
     "shell.execute_reply": "2022-01-09T13:15:37.780583Z"
    }
   },
   "outputs": [],
   "source": [
    "skf = StratifiedKFold(n_splits=folds, shuffle = True, random_state = 1001)\n",
    "\n",
    "grid_search_short = GridSearchCV(XGBClassifier(use_label_encoder=False), \n",
    "                                   param_grid=params_grid_search, \n",
    "                                   scoring='roc_auc', \n",
    "                                   n_jobs=-1, cv=skf.split(df_current_total_dataset_x,df_current_total_dataset_y_short), \n",
    "                                   verbose=3 )\n",
    "\n",
    "grid_search_short=grid_search_short.fit(df_current_total_dataset_x, df_current_total_dataset_y_short)"
   ]
  },
  {
   "cell_type": "code",
   "execution_count": null,
   "id": "9f390410-6bfb-40e1-9293-ea8258e48208",
   "metadata": {
    "execution": {
     "iopub.execute_input": "2022-01-09T13:15:37.790576Z",
     "iopub.status.busy": "2022-01-09T13:15:37.788577Z",
     "iopub.status.idle": "2022-01-09T13:15:37.874527Z",
     "shell.execute_reply": "2022-01-09T13:15:37.875527Z"
    }
   },
   "outputs": [],
   "source": [
    "print('Short Best Params:')\n",
    "print('------------------')\n",
    "print(grid_search_short.best_params_)\n",
    "print('grid_search_short Best Estimator:')\n",
    "print('------------------')\n",
    "print(grid_search_short.best_estimator_)\n",
    "\n",
    "best_short_booster = grid_search_short.best_estimator_.get_booster()"
   ]
  },
  {
   "cell_type": "code",
   "execution_count": null,
   "id": "981bee0b-b250-4058-8197-bb08cd509268",
   "metadata": {
    "execution": {
     "iopub.execute_input": "2022-01-09T13:15:37.888520Z",
     "iopub.status.busy": "2022-01-09T13:15:37.887521Z",
     "iopub.status.idle": "2022-01-09T13:15:47.312116Z",
     "shell.execute_reply": "2022-01-09T13:15:47.313116Z"
    }
   },
   "outputs": [],
   "source": [
    "hyperparam_file_name = os.path.join(f\"{CURRENT_ASSET}.{CURRENT_TIMEFRAME}.{int(CURRENT_TARGET * 100)}.{int(CURRENT_STOP * 100)}.hyperparameters_short.xlsx\")\n",
    "hyperparam_full_file_name = os.path.join(DATA_HYPERPARAMETERS_DIR,hyperparam_file_name)\n",
    "\n",
    "results = pd.DataFrame(grid_search_short.cv_results_)\n",
    "results.to_excel(hyperparam_full_file_name, index=False)"
   ]
  },
  {
   "cell_type": "code",
   "execution_count": null,
   "id": "ceda44ae-72b2-4925-b36f-76e2e5d70cd4",
   "metadata": {
    "execution": {
     "iopub.execute_input": "2022-01-09T13:15:47.322111Z",
     "iopub.status.busy": "2022-01-09T13:15:47.321111Z",
     "iopub.status.idle": "2022-01-09T13:36:31.150406Z",
     "shell.execute_reply": "2022-01-09T13:36:31.149407Z"
    }
   },
   "outputs": [],
   "source": [
    "folds = NUM_FOLDS_CROSSVALIDATION\n",
    "\n",
    "skf = StratifiedKFold(n_splits=folds, shuffle = True, random_state = 1001)\n",
    "\n",
    "grid_search_long = GridSearchCV(XGBClassifier(use_label_encoder=False), \n",
    "                                   param_grid=params_grid_search, \n",
    "                                   scoring='roc_auc', \n",
    "                                   n_jobs=-1, cv=skf.split(df_current_total_dataset_x,df_current_total_dataset_y_long), \n",
    "                                   verbose=3 )\n",
    "\n",
    "grid_search_long = grid_search_long.fit(df_current_total_dataset_x, df_current_total_dataset_y_long)"
   ]
  },
  {
   "cell_type": "code",
   "execution_count": null,
   "id": "31bfd538-e27d-4dc3-9063-7879be5b3a4c",
   "metadata": {
    "execution": {
     "iopub.execute_input": "2022-01-09T13:36:31.159402Z",
     "iopub.status.busy": "2022-01-09T13:36:31.158402Z",
     "iopub.status.idle": "2022-01-09T13:36:31.181389Z",
     "shell.execute_reply": "2022-01-09T13:36:31.182388Z"
    }
   },
   "outputs": [],
   "source": [
    "print('Long Best Params:')\n",
    "print('------------------')\n",
    "print(grid_search_long.best_params_)\n",
    "print('Long Best Estimator:')\n",
    "print('------------------')\n",
    "print(grid_search_long.best_estimator_)\n",
    "\n",
    "best_long_booster = grid_search_long.best_estimator_.get_booster()"
   ]
  },
  {
   "cell_type": "code",
   "execution_count": null,
   "id": "e7fe73dc-f91a-45ed-be67-d013b01adc10",
   "metadata": {
    "execution": {
     "iopub.execute_input": "2022-01-09T13:36:31.193382Z",
     "iopub.status.busy": "2022-01-09T13:36:31.192382Z",
     "iopub.status.idle": "2022-01-09T13:36:31.245352Z",
     "shell.execute_reply": "2022-01-09T13:36:31.246352Z"
    }
   },
   "outputs": [],
   "source": [
    "hyperparam_file_name = os.path.join(f\"{CURRENT_ASSET}.{CURRENT_TIMEFRAME}.{int(CURRENT_TARGET * 100)}.{int(CURRENT_STOP * 100)}.hyperparameters_long.xlsx\")\n",
    "hyperparam_full_file_name = os.path.join(DATA_HYPERPARAMETERS_DIR,hyperparam_file_name)\n",
    "\n",
    "results = pd.DataFrame(grid_search_long.cv_results_)\n",
    "results.to_excel(hyperparam_full_file_name, index=False)"
   ]
  },
  {
   "cell_type": "code",
   "execution_count": null,
   "id": "d74f74db-5fd1-45cd-8882-06bb547f3c93",
   "metadata": {
    "execution": {
     "iopub.execute_input": "2022-01-09T13:36:31.255347Z",
     "iopub.status.busy": "2022-01-09T13:36:31.254348Z",
     "iopub.status.idle": "2022-01-09T13:36:31.342296Z",
     "shell.execute_reply": "2022-01-09T13:36:31.341297Z"
    }
   },
   "outputs": [],
   "source": [
    "feature_important = best_short_booster.get_score(importance_type='weight')\n",
    "keys = list(feature_important.keys())\n",
    "values = list(feature_important.values())\n",
    "\n",
    "data = pd.DataFrame(data=values, index=keys, columns=[\"score\"]).sort_values(by = \"score\", ascending=False)\n",
    "data.head(20)"
   ]
  },
  {
   "cell_type": "code",
   "execution_count": null,
   "id": "9f8714c7-5b6d-4988-863d-4a402b36adbf",
   "metadata": {
    "execution": {
     "iopub.execute_input": "2022-01-09T13:36:31.351293Z",
     "iopub.status.busy": "2022-01-09T13:36:31.350293Z",
     "iopub.status.idle": "2022-01-09T13:36:31.373279Z",
     "shell.execute_reply": "2022-01-09T13:36:31.373279Z"
    }
   },
   "outputs": [],
   "source": [
    "feature_important = best_long_booster.get_score(importance_type='weight')\n",
    "keys = list(feature_important.keys())\n",
    "values = list(feature_important.values())\n",
    "\n",
    "data = pd.DataFrame(data=values, index=keys, columns=[\"score\"]).sort_values(by = \"score\", ascending=False)\n",
    "data.head(20)"
   ]
  },
  {
   "cell_type": "code",
   "execution_count": null,
   "id": "4114c28c-9fe1-4cbe-a0fe-5c17854131c3",
   "metadata": {
    "execution": {
     "iopub.execute_input": "2022-01-09T13:36:31.383274Z",
     "iopub.status.busy": "2022-01-09T13:36:31.381274Z",
     "iopub.status.idle": "2022-01-09T13:36:31.389270Z",
     "shell.execute_reply": "2022-01-09T13:36:31.390269Z"
    }
   },
   "outputs": [],
   "source": [
    "if SHAP_ENABLED:\n",
    "    shap.initjs()\n",
    "    explainer = shap.TreeExplainer(best_long_booster)\n",
    "    shap_values = explainer.shap_values(df_current_total_dataset_x)\n",
    "    shap.force_plot(explainer.expected_value, shap_values[0,:], df_current_total_dataset_x.iloc[0,:])"
   ]
  },
  {
   "cell_type": "code",
   "execution_count": null,
   "id": "f67846ee-036e-4712-89a4-e33b11ac96b7",
   "metadata": {
    "execution": {
     "iopub.execute_input": "2022-01-09T13:36:31.398265Z",
     "iopub.status.busy": "2022-01-09T13:36:31.397265Z",
     "iopub.status.idle": "2022-01-09T13:36:31.406260Z",
     "shell.execute_reply": "2022-01-09T13:36:31.405261Z"
    }
   },
   "outputs": [],
   "source": [
    "if SHAP_ENABLED:\n",
    "    shap.initjs()\n",
    "    shap_values = shap.TreeExplainer(best_long_booster).shap_values(df_current_total_dataset_x)\n",
    "    shap.summary_plot(shap_values, df_current_total_dataset_x, plot_type=\"bar\")"
   ]
  },
  {
   "cell_type": "code",
   "execution_count": null,
   "id": "74b4c4c6-049e-4e6b-ba02-9cc07fed6bf0",
   "metadata": {
    "execution": {
     "iopub.execute_input": "2022-01-09T13:36:31.415254Z",
     "iopub.status.busy": "2022-01-09T13:36:31.414255Z",
     "iopub.status.idle": "2022-01-09T13:36:31.420252Z",
     "shell.execute_reply": "2022-01-09T13:36:31.421251Z"
    }
   },
   "outputs": [],
   "source": [
    "if SHAP_ENABLED:\n",
    "    shap.initjs()\n",
    "    explainer = shap.TreeExplainer(best_short_booster)\n",
    "    shap_values = explainer.shap_values(df_current_total_dataset_x)\n",
    "    shap.force_plot(explainer.expected_value, shap_values[0,:], df_current_total_dataset_x.iloc[0,:])"
   ]
  },
  {
   "cell_type": "code",
   "execution_count": null,
   "id": "aeeed018-cb79-49e7-8d30-4c0147ed3eff",
   "metadata": {
    "execution": {
     "iopub.execute_input": "2022-01-09T13:36:31.429247Z",
     "iopub.status.busy": "2022-01-09T13:36:31.428248Z",
     "iopub.status.idle": "2022-01-09T13:36:31.436243Z",
     "shell.execute_reply": "2022-01-09T13:36:31.437242Z"
    }
   },
   "outputs": [],
   "source": [
    "if SHAP_ENABLED:\n",
    "    shap.initjs()\n",
    "    shap_values = shap.TreeExplainer(best_short_booster).shap_values(df_current_total_dataset_x)\n",
    "    shap.summary_plot(shap_values, df_current_total_dataset_x, plot_type=\"bar\")"
   ]
  },
  {
   "cell_type": "code",
   "execution_count": null,
   "id": "6715490b-6322-4c03-ba3a-fe1463b89d9c",
   "metadata": {
    "execution": {
     "iopub.execute_input": "2022-01-09T13:36:31.444238Z",
     "iopub.status.busy": "2022-01-09T13:36:31.443239Z",
     "iopub.status.idle": "2022-01-09T13:36:31.453233Z",
     "shell.execute_reply": "2022-01-09T13:36:31.452234Z"
    }
   },
   "outputs": [],
   "source": [
    "CURRENT_ASSET = current_parameters['CURRENT_ASSET']\n",
    "CURRENT_TIMEFRAME = current_parameters['CURRENT_TIMEFRAME']\n",
    "CURRENT_TARGET = current_parameters['CURRENT_TARGET']\n",
    "CURRENT_STOP = current_parameters['CURRENT_STOP']"
   ]
  },
  {
   "cell_type": "code",
   "execution_count": null,
   "id": "c214f38f-059a-4c8f-a61d-02178f4cb129",
   "metadata": {
    "execution": {
     "iopub.execute_input": "2022-01-09T13:36:32.669538Z",
     "iopub.status.busy": "2022-01-09T13:36:31.563170Z",
     "iopub.status.idle": "2022-01-09T13:38:29.068935Z",
     "shell.execute_reply": "2022-01-09T13:38:29.069934Z"
    }
   },
   "outputs": [],
   "source": [
    "def predict_short(row):\n",
    "    a = row[current_parameters['CURRENT_X_COLUMNS']].to_numpy().reshape(1,-1)\n",
    "    return best_short_booster.inplace_predict(a)[0]\n",
    "\n",
    "def predict_long(row):\n",
    "    a = row[current_parameters['CURRENT_X_COLUMNS']].to_numpy().reshape(1,-1)\n",
    "    return best_long_booster.inplace_predict(a)[0]\n",
    "\n",
    "df_current_total_dataset['short_predict'] = df_current_total_dataset.apply( lambda row: predict_short(row), axis=1)\n",
    "df_current_total_dataset['long_predict'] = df_current_total_dataset.apply( lambda row: predict_long(row), axis=1)\n"
   ]
  },
  {
   "cell_type": "code",
   "execution_count": null,
   "id": "47c39a66-0cb9-4df0-b39c-905193b6d9a9",
   "metadata": {
    "execution": {
     "iopub.execute_input": "2022-01-09T13:38:30.368191Z",
     "iopub.status.busy": "2022-01-09T13:38:30.366192Z",
     "iopub.status.idle": "2022-01-09T13:38:30.375187Z",
     "shell.execute_reply": "2022-01-09T13:38:30.375187Z"
    }
   },
   "outputs": [],
   "source": [
    "current_total_dataset = None\n",
    "dataset_matrix_short_test = None\n",
    "dataset_matrix_long_test = None\n",
    "dataset_matrix_short_train = None\n",
    "dataset_matrix_long_train = None\n",
    "\n",
    "df_current_test_dataset = None\n",
    "current_test_dataset = None\n",
    "df_current_test_dataset_x = None\n",
    "df_current_test_dataset_y_short = None\n",
    "df_current_test_dataset_y_long = None\n",
    "\n",
    "df_current_train_dataset = None\n",
    "current_train_dataset = None\n",
    "df_current_train_dataset_x = None\n",
    "df_current_train_dataset_y_short = None\n",
    "df_current_train_dataset_y_long = None\n",
    "\n",
    "gc.collect()"
   ]
  },
  {
   "cell_type": "code",
   "execution_count": null,
   "id": "cec742b5-eeba-4e53-b40f-d0966f107463",
   "metadata": {
    "execution": {
     "iopub.execute_input": "2022-01-09T13:38:30.382183Z",
     "iopub.status.busy": "2022-01-09T13:38:30.380184Z",
     "iopub.status.idle": "2022-01-09T13:38:30.392177Z",
     "shell.execute_reply": "2022-01-09T13:38:30.392177Z"
    }
   },
   "outputs": [],
   "source": [
    "total_output_file_name = f\"{CURRENT_ASSET}.{CURRENT_TIMEFRAME}.{int(CURRENT_TARGET * 100)}.{int(CURRENT_STOP * 100)}.xlsx\"\n",
    "total_output_full_file_name = os.path.join(DATA_OUTPUT_DIR,total_output_file_name)"
   ]
  },
  {
   "cell_type": "code",
   "execution_count": null,
   "id": "56291bb7-8850-46fc-ab1b-5dd20fa7c171",
   "metadata": {
    "execution": {
     "iopub.execute_input": "2022-01-09T13:38:31.690435Z",
     "iopub.status.busy": "2022-01-09T13:38:31.689435Z",
     "iopub.status.idle": "2022-01-09T13:38:31.700431Z",
     "shell.execute_reply": "2022-01-09T13:38:31.701430Z"
    }
   },
   "outputs": [],
   "source": [
    "df_current_total_dataset = None\n",
    "gc.collect()"
   ]
  },
  {
   "cell_type": "code",
   "execution_count": null,
   "id": "3986d0f3-0560-407a-97dc-f2eff7ef1404",
   "metadata": {
    "execution": {
     "iopub.execute_input": "2022-01-09T13:38:31.709424Z",
     "iopub.status.busy": "2022-01-09T13:38:31.708426Z",
     "iopub.status.idle": "2022-01-09T13:38:31.780383Z",
     "shell.execute_reply": "2022-01-09T13:38:31.781385Z"
    }
   },
   "outputs": [],
   "source": [
    "model_file_name = os.path.join(f\"{CURRENT_ASSET}.{CURRENT_TIMEFRAME}.{int(CURRENT_TARGET * 100)}.{int(CURRENT_STOP * 100)}.xgboostshortmodel.txt\")\n",
    "model_full_file_name = os.path.join(DATA_OUTPUT_DIR,model_file_name)\n",
    "\n",
    "best_short_booster.dump_model(model_full_file_name)"
   ]
  },
  {
   "cell_type": "code",
   "execution_count": null,
   "id": "d60a1e55-01e8-45bb-a124-635ff381d53e",
   "metadata": {
    "execution": {
     "iopub.execute_input": "2022-01-09T13:38:31.789379Z",
     "iopub.status.busy": "2022-01-09T13:38:31.788379Z",
     "iopub.status.idle": "2022-01-09T13:38:31.828356Z",
     "shell.execute_reply": "2022-01-09T13:38:31.829355Z"
    }
   },
   "outputs": [],
   "source": [
    "model_file_name = os.path.join(f\"{CURRENT_ASSET}.{CURRENT_TIMEFRAME}.{int(CURRENT_TARGET * 100)}.{int(CURRENT_STOP * 100)}.xgboostlongmodel.txt\")\n",
    "model_full_file_name = os.path.join(DATA_OUTPUT_DIR,model_file_name)\n",
    "\n",
    "best_long_booster.dump_model(model_full_file_name)"
   ]
  },
  {
   "cell_type": "code",
   "execution_count": null,
   "id": "8bd48dd1-2623-454d-9e2b-cb8b035bf3da",
   "metadata": {
    "execution": {
     "iopub.execute_input": "2022-01-09T13:38:31.838351Z",
     "iopub.status.busy": "2022-01-09T13:38:31.837351Z",
     "iopub.status.idle": "2022-01-09T13:38:31.924301Z",
     "shell.execute_reply": "2022-01-09T13:38:31.923302Z"
    }
   },
   "outputs": [],
   "source": [
    "model_file_name = os.path.join(f\"{CURRENT_ASSET}.{CURRENT_TIMEFRAME}.{int(CURRENT_TARGET * 100)}.{int(CURRENT_STOP * 100)}.xgboostshortmodel.pickle\")\n",
    "model_full_file_name = os.path.join(DATA_OUTPUT_DIR,model_file_name)\n",
    "\n",
    "joblib.dump(best_short_booster, model_full_file_name, True)"
   ]
  },
  {
   "cell_type": "code",
   "execution_count": null,
   "id": "45cc019d-f0d4-4645-8e3e-a95875946243",
   "metadata": {
    "execution": {
     "iopub.execute_input": "2022-01-09T13:38:31.931297Z",
     "iopub.status.busy": "2022-01-09T13:38:31.930298Z",
     "iopub.status.idle": "2022-01-09T13:38:32.004259Z",
     "shell.execute_reply": "2022-01-09T13:38:32.005258Z"
    }
   },
   "outputs": [],
   "source": [
    "model_file_name = os.path.join(f\"{CURRENT_ASSET}.{CURRENT_TIMEFRAME}.{int(CURRENT_TARGET * 100)}.{int(CURRENT_STOP * 100)}.xgboostlongmodel.pickle\")\n",
    "model_full_file_name = os.path.join(DATA_OUTPUT_DIR,model_file_name)\n",
    "\n",
    "joblib.dump(best_long_booster, model_full_file_name, True)"
   ]
  },
  {
   "cell_type": "code",
   "execution_count": null,
   "id": "9a13d799-8f2c-49e8-96c5-767943ef1cfa",
   "metadata": {
    "execution": {
     "iopub.execute_input": "2022-01-09T13:38:32.014251Z",
     "iopub.status.busy": "2022-01-09T13:38:32.013251Z",
     "iopub.status.idle": "2022-01-09T13:38:32.100201Z",
     "shell.execute_reply": "2022-01-09T13:38:32.101200Z"
    }
   },
   "outputs": [],
   "source": [
    "model_file_name = os.path.join(f\"{CURRENT_ASSET}.{CURRENT_TIMEFRAME}.{int(CURRENT_TARGET * 100)}.{int(CURRENT_STOP * 100)}.xgboostclassifiershortmodel.pickle\")\n",
    "model_full_file_name = os.path.join(DATA_OUTPUT_DIR,model_file_name)\n",
    "\n",
    "joblib.dump(grid_search_short.best_estimator_, model_full_file_name, True)"
   ]
  },
  {
   "cell_type": "code",
   "execution_count": null,
   "id": "6126ee35-0bf7-4249-9e13-2fc9381515eb",
   "metadata": {
    "execution": {
     "iopub.execute_input": "2022-01-09T13:38:32.109196Z",
     "iopub.status.busy": "2022-01-09T13:38:32.108196Z",
     "iopub.status.idle": "2022-01-09T13:38:32.180157Z",
     "shell.execute_reply": "2022-01-09T13:38:32.180157Z"
    }
   },
   "outputs": [],
   "source": [
    "model_file_name = os.path.join(f\"{CURRENT_ASSET}.{CURRENT_TIMEFRAME}.{int(CURRENT_TARGET * 100)}.{int(CURRENT_STOP * 100)}.xgboostclassifierlongmodel.pickle\")\n",
    "model_full_file_name = os.path.join(DATA_OUTPUT_DIR,model_file_name)\n",
    "\n",
    "joblib.dump(grid_search_long.best_estimator_, model_full_file_name, True)"
   ]
  },
  {
   "cell_type": "code",
   "execution_count": null,
   "id": "51d988c3-2466-4d4b-9fa3-a89b69dd02e0",
   "metadata": {},
   "outputs": [],
   "source": []
  }
 ],
 "metadata": {
  "kernelspec": {
   "display_name": "Python 3 (ipykernel)",
   "language": "python",
   "name": "python3"
  },
  "language_info": {
   "codemirror_mode": {
    "name": "ipython",
    "version": 3
   },
   "file_extension": ".py",
   "mimetype": "text/x-python",
   "name": "python",
   "nbconvert_exporter": "python",
   "pygments_lexer": "ipython3",
   "version": "3.9.6"
  }
 },
 "nbformat": 4,
 "nbformat_minor": 5
}
