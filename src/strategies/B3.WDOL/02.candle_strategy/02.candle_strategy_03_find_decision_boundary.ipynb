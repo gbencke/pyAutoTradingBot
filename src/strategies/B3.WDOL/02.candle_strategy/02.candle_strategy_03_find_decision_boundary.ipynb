{
 "cells": [
  {
   "cell_type": "code",
   "execution_count": null,
   "id": "d71045f6-e555-4c59-b299-8e4967f91890",
   "metadata": {},
   "outputs": [],
   "source": [
    "import os\n",
    "import sys\n",
    "import gc\n",
    "import pandas as pd\n",
    "import pandas_ta as ta\n",
    "from math import pi\n",
    "from bokeh.plotting import figure, show\n",
    "from bokeh.models import ColumnDataSource\n",
    "from bokeh.transform import factor_cmap\n",
    "from bokeh.palettes import Spectral6\n",
    "import joblib\n",
    "import m2cgen as m2c\n",
    "\n",
    "sys.path.append(os.getcwd() + os.sep + '..' + os.sep + '..' + os.sep + '..')\n",
    "\n",
    "from pyautotrader.utils.model_export import export_model_python"
   ]
  },
  {
   "cell_type": "code",
   "execution_count": null,
   "id": "b7e414ad-f1f2-4b88-9464-0860a3db2325",
   "metadata": {},
   "outputs": [],
   "source": [
    "data_folder = os.path.join('..','00.data','output')\n",
    "\n",
    "files_found = [x for x in os.listdir(data_folder) if x.endswith('.pickle')]\n",
    "files_found_tokens=[x.split('.') for x in files_found]\n",
    "\n",
    "models_found = {}\n",
    "\n",
    "for current_model in files_found_tokens:\n",
    "    model_name = '.'.join(current_model[:-2])\n",
    "    filename = os.path.join('..','00.data','output','.'.join(current_model))\n",
    "    if not model_name in models_found:\n",
    "        models_found[model_name]= {}          \n",
    "    models_found[model_name][current_model[-2]]=filename\n",
    "\n",
    "print(models_found)"
   ]
  },
  {
   "cell_type": "code",
   "execution_count": null,
   "id": "4d0a225a-a397-4525-82d9-d13c30828d4e",
   "metadata": {},
   "outputs": [],
   "source": [
    "first_model = list(models_found.keys())[0]\n",
    "current_total_dataset = joblib.load(models_found[first_model]['total'])\n",
    "current_parameters = joblib.load(models_found[first_model]['parameters'])\n",
    "current_raw_dataset = joblib.load(models_found[first_model]['raw'])\n",
    "\n",
    "best_short_booster = joblib.load(models_found[first_model]['xgboostshortmodel'])\n",
    "best_long_booster = joblib.load(models_found[first_model]['xgboostlongmodel'])"
   ]
  },
  {
   "cell_type": "code",
   "execution_count": null,
   "id": "f1035aa5-783a-4f43-9776-428f40ba42b9",
   "metadata": {},
   "outputs": [],
   "source": [
    "df_current_total_dataset = pd.DataFrame(current_total_dataset)"
   ]
  },
  {
   "cell_type": "code",
   "execution_count": null,
   "id": "f340f3bc-3385-4ca4-9ed3-98a512f1e276",
   "metadata": {},
   "outputs": [],
   "source": [
    "df_current_total_dataset = df_current_total_dataset[['current_date', 'current_time'] + current_parameters['CURRENT_X_COLUMNS']]"
   ]
  },
  {
   "cell_type": "code",
   "execution_count": null,
   "id": "f66fd9e8-fbd9-4c52-b128-a577fdd02623",
   "metadata": {},
   "outputs": [],
   "source": [
    "current_total_dataset = None\n",
    "gc.collect()"
   ]
  },
  {
   "cell_type": "code",
   "execution_count": null,
   "id": "b80e4cc8-88a9-4bc8-9b33-fae3f7fc451b",
   "metadata": {},
   "outputs": [],
   "source": [
    "def predict_short(row):\n",
    "    a = row[current_parameters['CURRENT_X_COLUMNS']].to_numpy().reshape(1,-1)\n",
    "    return best_short_booster.inplace_predict(a)[0]\n",
    "\n",
    "def predict_long(row):\n",
    "    a = row[current_parameters['CURRENT_X_COLUMNS']].to_numpy().reshape(1,-1)\n",
    "    return best_long_booster.inplace_predict(a)[0]\n",
    "\n",
    "df_current_total_dataset['short_predict'] = df_current_total_dataset.apply( lambda row: predict_short(row), axis=1)\n",
    "df_current_total_dataset['long_predict'] = df_current_total_dataset.apply( lambda row: predict_long(row), axis=1)"
   ]
  },
  {
   "cell_type": "code",
   "execution_count": null,
   "id": "a4e075fa-375f-44dc-8530-39cb524cf786",
   "metadata": {},
   "outputs": [],
   "source": [
    "df_current_total_dataset['short_predict'].hist(bins=500)"
   ]
  },
  {
   "cell_type": "code",
   "execution_count": null,
   "id": "08fd1b09-ad88-4c65-b455-f0e230b25b71",
   "metadata": {},
   "outputs": [],
   "source": [
    "df_current_total_dataset['long_predict'].hist(bins=500)"
   ]
  },
  {
   "cell_type": "code",
   "execution_count": null,
   "id": "0fc58add-e310-4d9b-9bd0-7d83b1f46a88",
   "metadata": {},
   "outputs": [],
   "source": [
    "results_from_df = df_current_total_dataset.to_dict('records')\n",
    "results = {}\n",
    "short_results = []\n",
    "long_results = []\n",
    "\n",
    "for current_result in results_from_df:\n",
    "    results[(current_result['current_date'] * 10000) + current_result['current_time']] = \\\n",
    "    { \n",
    "        'short_predict' : current_result['short_predict'],\n",
    "        'long_predict' : current_result['long_predict']\n",
    "    }    \n",
    "    short_results.append(current_result['short_predict'])\n",
    "    long_results.append(current_result['long_predict'])\n",
    "\n"
   ]
  },
  {
   "cell_type": "code",
   "execution_count": null,
   "id": "d5eae889-130d-4c2d-a660-d083d5577248",
   "metadata": {},
   "outputs": [],
   "source": [
    "results_from_df = None\n",
    "df_current_total_dataset = None\n",
    "gc.collect()"
   ]
  },
  {
   "cell_type": "code",
   "execution_count": null,
   "id": "f19d8999-8bae-43f8-b0fb-dc57e0c43466",
   "metadata": {},
   "outputs": [],
   "source": [
    "minimum_short_predict = 0\n",
    "minimum_long_predict = 0\n",
    "\n",
    "maximum_short_predict = int(round(max(short_results),0))\n",
    "maximum_long_predict = int(round(max(long_results),0))\n",
    "\n",
    "current_short_predict = 0\n",
    "current_long_predict = 0\n",
    "\n",
    "current_trade = None\n",
    "current_trade_entries = []\n",
    "\n",
    "candle_count = 0\n",
    "current_target = current_parameters['CURRENT_TARGET']\n",
    "current_stop = current_parameters['CURRENT_STOP']\n",
    "\n",
    "MAX_TRADE_DURATION = 24\n",
    "\n",
    "for current_candle in current_raw_dataset:\n",
    "    if current_trade is not None:\n",
    "        is_short = current_trade['trade_type'] == 'short'\n",
    "        is_long = current_trade['trade_type'] == 'long'\n",
    "        if is_short:\n",
    "            if current_candle['low'] <= current_trade['trade_target']:\n",
    "                current_trade['result'] =  current_trade['trade_start'] - current_trade['trade_target']\n",
    "                current_trade = None\n",
    "                continue\n",
    "            if current_candle['high'] >= current_trade['trade_stop']:\n",
    "                current_trade['result'] =  current_trade['trade_stop'] - current_trade['trade_start']\n",
    "                current_trade = None\n",
    "                continue\n",
    "        if is_long:\n",
    "            if current_candle['low'] <= current_trade['trade_stop']:\n",
    "                current_trade['result'] =  current_trade['trade_stop'] - current_trade['trade_start']\n",
    "                current_trade = None\n",
    "                continue\n",
    "            if current_candle['high'] >= current_trade['trade_target']:\n",
    "                current_trade['result'] =  current_trade['trade_target'] - current_trade['trade_start']\n",
    "                current_trade = None\n",
    "                continue\n",
    "        if candle_count > (current_trade['start_candle'] + MAX_TRADE_DURATION):\n",
    "            if is_long:\n",
    "                current_trade['result'] =  current_trade['close'] - current_trade['trade_start']\n",
    "            if is_short:\n",
    "                current_trade['result'] =  current_trade['trade_start'] - current_trade['close']\n",
    "            current_trade = None\n",
    "            continue\n",
    "        \n",
    "    if current_trade is None:\n",
    "        if current_candle['Date'] > current_parameters['MINIMUM_DATE_TRADE'] and \\\n",
    "           current_candle['Time'] >= current_parameters['MINIMUM_TIME'] and \\\n",
    "           current_candle['Time'] <= current_parameters['MAXIMUM_TIME']:\n",
    "            current_date_time = (current_candle['Date'] * 10000) + current_candle['Time']\n",
    "            is_entry_point = results[current_date_time]['short_predict'] > 0 or results[current_date_time]['long_predict'] > 0\n",
    "            if is_entry_point:\n",
    "                is_short = results[current_date_time]['short_predict'] > 0 \n",
    "                current_trade = {**current_candle, \n",
    "                                 'trade_type': 'short' if is_short else 'long', \n",
    "                                 'start_candle': candle_count,\n",
    "                                 'trade_start': current_candle['close']\n",
    "                                }\n",
    "                if is_short:\n",
    "                    current_trade['trade_target'] = current_candle['close'] * (1 - (current_stop / 100))\n",
    "                    current_trade['trade_stop'] = current_candle['close'] * (1 + (current_target / 100))\n",
    "                else:\n",
    "                    current_trade['trade_target'] = current_candle['close'] * (1 + (current_target / 100))\n",
    "                    current_trade['trade_stop'] = current_candle['close'] * (1 - (current_stop / 100))\n",
    "                    \n",
    "                current_trade_entries.append(current_trade)\n",
    "                \n",
    "    candle_count += 1"
   ]
  },
  {
   "cell_type": "code",
   "execution_count": null,
   "id": "eb7050df-bac0-4e6c-8b4a-8e9021aecae3",
   "metadata": {},
   "outputs": [],
   "source": [
    "current_trade_per_day = {}\n",
    "days = []\n",
    "current_days = []\n",
    "current_results = []\n",
    "for current_trade in current_trade_entries:\n",
    "    current_date = current_trade['Date']        \n",
    "    if current_date in current_trade_per_day:\n",
    "        current_trade_per_day[current_date]['result'] += current_trade['result']\n",
    "    else:\n",
    "        current_trade_per_day[current_date] = {\n",
    "            'result' : current_trade['result']\n",
    "        }\n",
    "        \n",
    "for current_date in current_trade_per_day:\n",
    "    days.append({'date': current_date, 'result': current_trade_per_day[current_date]['result']})\n",
    "    current_days.append(str(current_date))\n",
    "    current_results.append(current_trade_per_day[current_date]['result'])\n",
    "   \n",
    "current_source = ColumnDataSource(data=dict(current_days=current_days, current_results=current_results))\n",
    "p = figure(x_range=current_days, width=1600, height=900, toolbar_location=None, title=\"Resultado do Modelo Em pontos\")\n",
    "p.vbar(x='current_days', top='current_results', width=0.9, source=current_source)\n",
    "\n",
    "show(p)"
   ]
  },
  {
   "cell_type": "code",
   "execution_count": null,
   "id": "56c4c76d-55cf-447d-a61b-f8da1d8e0a26",
   "metadata": {},
   "outputs": [],
   "source": [
    "code = export_model_python()\n",
    "print(code)"
   ]
  },
  {
   "cell_type": "code",
   "execution_count": null,
   "id": "2a61c13e-1ab5-4ee1-b40d-43b34d4c9d9e",
   "metadata": {},
   "outputs": [],
   "source": []
  }
 ],
 "metadata": {
  "kernelspec": {
   "display_name": "Python 3 (ipykernel)",
   "language": "python",
   "name": "python3"
  },
  "language_info": {
   "codemirror_mode": {
    "name": "ipython",
    "version": 3
   },
   "file_extension": ".py",
   "mimetype": "text/x-python",
   "name": "python",
   "nbconvert_exporter": "python",
   "pygments_lexer": "ipython3",
   "version": "3.9.6"
  }
 },
 "nbformat": 4,
 "nbformat_minor": 5
}
