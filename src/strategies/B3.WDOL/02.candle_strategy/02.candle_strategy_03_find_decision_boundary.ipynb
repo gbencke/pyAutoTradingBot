{
 "cells": [
  {
   "cell_type": "code",
   "execution_count": null,
   "id": "d71045f6-e555-4c59-b299-8e4967f91890",
   "metadata": {},
   "outputs": [],
   "source": [
    "import os\n",
    "import sys\n",
    "import gc\n",
    "import pandas as pd\n",
    "import pandas_ta as ta\n",
    "from math import pi\n",
    "from bokeh.plotting import figure, show\n",
    "import joblib\n",
    "import m2cgen as m2c\n",
    "\n",
    "sys.path.append(os.getcwd() + os.sep + '..' + os.sep + '..' + os.sep + '..')\n",
    "\n",
    "from pyautotrader.utils.model_export import export_model_python"
   ]
  },
  {
   "cell_type": "code",
   "execution_count": null,
   "id": "b7e414ad-f1f2-4b88-9464-0860a3db2325",
   "metadata": {},
   "outputs": [],
   "source": [
    "data_folder = os.path.join('..','00.data','output')\n",
    "\n",
    "files_found = [x for x in os.listdir(data_folder) if x.endswith('.pickle')]\n",
    "files_found_tokens=[x.split('.') for x in files_found]\n",
    "\n",
    "models_found = {}\n",
    "\n",
    "for current_model in files_found_tokens:\n",
    "    model_name = '.'.join(current_model[:-2])\n",
    "    filename = os.path.join('..','00.data','output','.'.join(current_model))\n",
    "    if not model_name in models_found:\n",
    "        models_found[model_name]= {}          \n",
    "    models_found[model_name][current_model[-2]]=filename\n",
    "\n",
    "print(models_found)"
   ]
  },
  {
   "cell_type": "code",
   "execution_count": null,
   "id": "4d0a225a-a397-4525-82d9-d13c30828d4e",
   "metadata": {},
   "outputs": [],
   "source": [
    "first_model = list(models_found.keys())[0]\n",
    "current_total_dataset = joblib.load(models_found[first_model]['total'])\n",
    "current_parameters = joblib.load(models_found[first_model]['parameters'])\n",
    "current_raw_dataset = joblib.load(models_found[first_model]['raw'])\n",
    "\n",
    "best_short_booster = joblib.load(models_found[first_model]['xgboostshortmodel'])\n",
    "best_long_booster = joblib.load(models_found[first_model]['xgboostlongmodel'])"
   ]
  },
  {
   "cell_type": "code",
   "execution_count": null,
   "id": "f1035aa5-783a-4f43-9776-428f40ba42b9",
   "metadata": {},
   "outputs": [],
   "source": [
    "df_current_total_dataset = pd.DataFrame(current_total_dataset)"
   ]
  },
  {
   "cell_type": "code",
   "execution_count": null,
   "id": "f340f3bc-3385-4ca4-9ed3-98a512f1e276",
   "metadata": {},
   "outputs": [],
   "source": [
    "df_current_total_dataset = df_current_total_dataset[['current_date', 'current_time'] + current_parameters['CURRENT_X_COLUMNS']]"
   ]
  },
  {
   "cell_type": "code",
   "execution_count": null,
   "id": "f66fd9e8-fbd9-4c52-b128-a577fdd02623",
   "metadata": {},
   "outputs": [],
   "source": [
    "current_total_dataset = None\n",
    "gc.collect()"
   ]
  },
  {
   "cell_type": "code",
   "execution_count": null,
   "id": "b80e4cc8-88a9-4bc8-9b33-fae3f7fc451b",
   "metadata": {},
   "outputs": [],
   "source": [
    "def predict_short(row):\n",
    "    a = row[current_parameters['CURRENT_X_COLUMNS']].to_numpy().reshape(1,-1)\n",
    "    return best_short_booster.inplace_predict(a)[0]\n",
    "\n",
    "def predict_long(row):\n",
    "    a = row[current_parameters['CURRENT_X_COLUMNS']].to_numpy().reshape(1,-1)\n",
    "    return best_long_booster.inplace_predict(a)[0]\n",
    "\n",
    "df_current_total_dataset['short_predict'] = df_current_total_dataset.apply( lambda row: predict_short(row), axis=1)\n",
    "df_current_total_dataset['long_predict'] = df_current_total_dataset.apply( lambda row: predict_long(row), axis=1)"
   ]
  },
  {
   "cell_type": "code",
   "execution_count": null,
   "id": "a4e075fa-375f-44dc-8530-39cb524cf786",
   "metadata": {},
   "outputs": [],
   "source": [
    "df_current_total_dataset['short_predict'].hist(bins=500)"
   ]
  },
  {
   "cell_type": "code",
   "execution_count": null,
   "id": "08fd1b09-ad88-4c65-b455-f0e230b25b71",
   "metadata": {},
   "outputs": [],
   "source": [
    "df_current_total_dataset['long_predict'].hist(bins=500)"
   ]
  },
  {
   "cell_type": "code",
   "execution_count": null,
   "id": "0fc58add-e310-4d9b-9bd0-7d83b1f46a88",
   "metadata": {},
   "outputs": [],
   "source": [
    "results_from_df = df_current_total_dataset.to_dict('records')\n",
    "results = {}\n",
    "short_results = []\n",
    "long_results = []\n",
    "\n",
    "for current_result in results_from_df:\n",
    "    results[(current_result['current_date'] * 10000) + current_result['current_time']] = \\\n",
    "    { \n",
    "        'short_predict' : current_result['short_predict'],\n",
    "        'long_predict' : current_result['long_predict']\n",
    "    }    \n",
    "    short_results.append(current_result['short_predict'])\n",
    "    long_results.append(current_result['long_predict'])\n",
    "\n",
    "#print(results)    "
   ]
  },
  {
   "cell_type": "code",
   "execution_count": null,
   "id": "f19d8999-8bae-43f8-b0fb-dc57e0c43466",
   "metadata": {},
   "outputs": [],
   "source": [
    "minimum_short_predict = 0\n",
    "minimum_long_predict = 0\n",
    "\n",
    "maximum_short_predict = int(round(max(short_results),0))\n",
    "maximum_long_predict = int(round(max(long_results),0))\n",
    "\n",
    "current_short_predict = 0\n",
    "current_long_predict = 0\n",
    "\n",
    "current_trade = None\n",
    "current_trade_entries = []\n",
    "\n",
    "for current_candle in current_raw_dataset:\n",
    "    if current_trade is None:\n",
    "        if current_candle['Date'] > current_parameters['MINIMUM_DATE_TRADE'] and \\\n",
    "           current_candle['Time'] >= current_parameters['MINIMUM_TIME'] and \\\n",
    "           current_candle['Time'] <= current_parameters['MAXIMUM_TIME']:\n",
    "            current_date_time = (current_candle['Date'] * 10000) + current_candle['Time']\n",
    "            if results[current_date_time]['short_predict'] > 0:\n",
    "                current_trade = {**current_candle, 'trade_type':'short'}\n",
    "                current_trade_entries.append(current_trade)\n",
    "            if results[current_date_time]['long_predict'] > 0:\n",
    "                current_trade = {**current_candle, 'trade_type':'long'}\n",
    "                current_trade_entries.append(current_trade)"
   ]
  },
  {
   "cell_type": "code",
   "execution_count": null,
   "id": "56c4c76d-55cf-447d-a61b-f8da1d8e0a26",
   "metadata": {},
   "outputs": [],
   "source": [
    "code = export_model_python()\n",
    "print(code)"
   ]
  },
  {
   "cell_type": "code",
   "execution_count": null,
   "id": "1ca8b7ae-9e28-4ff2-81fa-d7c6a7efee95",
   "metadata": {},
   "outputs": [],
   "source": []
  }
 ],
 "metadata": {
  "kernelspec": {
   "display_name": "Python 3 (ipykernel)",
   "language": "python",
   "name": "python3"
  },
  "language_info": {
   "codemirror_mode": {
    "name": "ipython",
    "version": 3
   },
   "file_extension": ".py",
   "mimetype": "text/x-python",
   "name": "python",
   "nbconvert_exporter": "python",
   "pygments_lexer": "ipython3",
   "version": "3.9.6"
  }
 },
 "nbformat": 4,
 "nbformat_minor": 5
}
