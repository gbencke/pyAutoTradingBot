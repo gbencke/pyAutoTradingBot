{
 "cells": [
  {
   "cell_type": "code",
   "execution_count": null,
   "id": "df06572e-1d31-4ed8-8cac-9993379ee28d",
   "metadata": {},
   "outputs": [],
   "source": [
    "import os\n",
    "import pandas as pd\n",
    "import joblib\n",
    "import xgboost as xgb"
   ]
  },
  {
   "cell_type": "code",
   "execution_count": null,
   "id": "0031417f-74d3-4f83-a24a-146168cac792",
   "metadata": {},
   "outputs": [],
   "source": [
    "CURRENT_X_COLUMNS = ['previous_high', \n",
    "                     'previous_close', \n",
    "                     'previous_low' ,\n",
    "                     'previous_open', \n",
    "                     'x0_ema9' ,\n",
    "                     'x0_ema21',\n",
    "                     'x0_open', \n",
    "                     'x0_high', \n",
    "                     'x0_low',\n",
    "                     'x0_close',\n",
    "                     'x0_volume',\n",
    "                     'x1_ema9',\n",
    "                     'x1_ema21', \n",
    "                     'x1_open', \n",
    "                     'x1_high',\n",
    "                     'x1_low',\n",
    "                     'x1_close', \n",
    "                     'x1_volume',\n",
    "                     'x2_ema9', \n",
    "                     'x2_ema21', \n",
    "                     'x2_open',\n",
    "                     'x2_high' ,\n",
    "                     'x2_low' , \n",
    "                     'x2_close', \n",
    "                     'x2_volume', \n",
    "                     'x3_ema9' ,\n",
    "                     'x3_ema21',\n",
    "                     'x3_open' ,\n",
    "                     'x3_high' ,\n",
    "                     'x3_low' ,\n",
    "                     'x3_close', \n",
    "                     'x3_volume', \n",
    "                     'x4_ema9' ,\n",
    "                     'x4_ema21', \n",
    "                     'x4_open' , \n",
    "                     'x4_high' , \n",
    "                     'x4_low' , \n",
    "                     'x4_close', \n",
    "                     'x4_volume', \n",
    "                     'x5_ema9' , \n",
    "                     'x5_ema21', \n",
    "                     'x5_open' , \n",
    "                     'x5_high' , \n",
    "                     'x5_low' , \n",
    "                     'x5_close', \n",
    "                     'x5_volume']\n",
    "CURRENT_Y_COLUMN_SHORT = ['is_short']\n",
    "CURRENT_Y_COLUMN_LONG = ['is_long']"
   ]
  },
  {
   "cell_type": "code",
   "execution_count": null,
   "id": "9e10e7ab-2903-4a29-9dd4-264e072c6bdc",
   "metadata": {},
   "outputs": [],
   "source": [
    "data_folder = os.path.join('..','00.data','output')\n",
    "\n",
    "files_found = [x for x in os.listdir(data_folder) if x.endswith('.pickle')]\n",
    "files_found_tokens=[x.split('.') for x in files_found]\n",
    "\n",
    "models_found = {}\n",
    "\n",
    "for current_model in files_found_tokens:\n",
    "    model_name = '.'.join(current_model[:-2])\n",
    "    filename = os.path.join('..','00.data','output','.'.join(current_model))\n",
    "    if not model_name in models_found:\n",
    "        models_found[model_name]= {}          \n",
    "    models_found[model_name][current_model[-2]]=filename"
   ]
  },
  {
   "cell_type": "code",
   "execution_count": null,
   "id": "c5f2970e-b483-495f-bab2-02cde3318901",
   "metadata": {},
   "outputs": [],
   "source": [
    "first_model = list(models_found.keys())[0]\n",
    "current_train_dataset = joblib.load(models_found[first_model]['train'])\n",
    "\n",
    "df_current_train_dataset = pd.DataFrame(current_train_dataset)\n",
    "df_current_train_dataset_x = df_current_train_dataset[CURRENT_X_COLUMNS]\n",
    "df_current_train_dataset_y_short = df_current_train_dataset[CURRENT_Y_COLUMN_SHORT]\n",
    "df_current_train_dataset_y_long = df_current_train_dataset[CURRENT_Y_COLUMN_LONG]\n",
    "\n",
    "\n",
    "df_current_train_dataset_x_labels=df_current_train_dataset_x.columns.values\n",
    "dataset_matrix_short = xgb.DMatrix(data=df_current_train_dataset_x,label=df_current_train_dataset_y_short, feature_names=df_current_train_dataset_x_labels)\n",
    "dataset_matrix_long = xgb.DMatrix(data=df_current_train_dataset_x,label=df_current_train_dataset_y_long, feature_names=df_current_train_dataset_x_labels)\n"
   ]
  },
  {
   "cell_type": "code",
   "execution_count": null,
   "id": "e3d5e9a3-cb7a-4074-baa8-0c56d0933305",
   "metadata": {},
   "outputs": [],
   "source": []
  }
 ],
 "metadata": {
  "kernelspec": {
   "display_name": "Python 3 (ipykernel)",
   "language": "python",
   "name": "python3"
  },
  "language_info": {
   "codemirror_mode": {
    "name": "ipython",
    "version": 3
   },
   "file_extension": ".py",
   "mimetype": "text/x-python",
   "name": "python",
   "nbconvert_exporter": "python",
   "pygments_lexer": "ipython3",
   "version": "3.9.6"
  }
 },
 "nbformat": 4,
 "nbformat_minor": 5
}
