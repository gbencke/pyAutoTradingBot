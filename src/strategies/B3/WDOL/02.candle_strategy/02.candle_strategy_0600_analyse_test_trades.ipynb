{
 "cells": [
  {
   "cell_type": "code",
   "execution_count": null,
   "id": "172af041-9fc9-4e7a-9de5-6db47f6f0810",
   "metadata": {},
   "outputs": [],
   "source": [
    "import os\n",
    "import joblib\n",
    "import pandas as pd\n",
    "\n",
    "import seaborn as sns"
   ]
  },
  {
   "cell_type": "code",
   "execution_count": null,
   "outputs": [],
   "source": [
    "sns.set(rc={'figure.figsize':(24,8.27)})"
   ],
   "metadata": {
    "collapsed": false
   }
  },
  {
   "cell_type": "code",
   "execution_count": null,
   "outputs": [],
   "source": [
    "DATA_OUTPUT_DIR = os.path.join('..','00.data','output')\n"
   ],
   "metadata": {
    "collapsed": false
   }
  },
  {
   "cell_type": "code",
   "execution_count": null,
   "outputs": [],
   "source": [
    "if \"DATA_OUTPUT_DIR\" in os.environ:\n",
    "    DATA_OUTPUT_DIR = os.environ[\"DATA_OUTPUT_DIR\"]\n"
   ],
   "metadata": {
    "collapsed": false
   }
  },
  {
   "cell_type": "code",
   "execution_count": null,
   "outputs": [],
   "source": [
    "files_found = [x for x in os.listdir(DATA_OUTPUT_DIR) if x.endswith('.pickle')]\n",
    "files_found_tokens=[x.split('.') for x in files_found]\n",
    "\n",
    "models_found = {}\n",
    "\n",
    "for current_model in files_found_tokens:\n",
    "    model_name = '.'.join(current_model[:-2])\n",
    "    filename = os.path.join(DATA_OUTPUT_DIR,'.'.join(current_model))\n",
    "    if not model_name in models_found:\n",
    "        models_found[model_name]= {}\n",
    "    models_found[model_name][current_model[-2]]=filename\n"
   ],
   "metadata": {
    "collapsed": false
   }
  },
  {
   "cell_type": "code",
   "execution_count": null,
   "outputs": [],
   "source": [
    "first_model = list(models_found.keys())[0]\n",
    "current_parameters = joblib.load(models_found[first_model]['parameters'])\n",
    "MINIMUM_TIME = current_parameters['MINIMUM_TIME']\n",
    "MAXIMUM_TIME = current_parameters['MAXIMUM_TIME']\n",
    "CURRENT_EXCHANGE = current_parameters['CURRENT_EXCHANGE']\n",
    "CURRENT_ASSET = current_parameters['CURRENT_ASSET']\n",
    "CURRENT_TIMEFRAME= current_parameters['CURRENT_TIMEFRAME']\n",
    "CURRENT_TARGET= current_parameters['CURRENT_TARGET']\n",
    "CURRENT_STOP= current_parameters['CURRENT_STOP']\n",
    "MAX_TRADE_DURATION = current_parameters['MAX_TRADE_DURATION']\n",
    "DECISION_BOUNDARY = current_parameters['DECISION_BOUNDARY']\n"
   ],
   "metadata": {
    "collapsed": false
   }
  },
  {
   "cell_type": "code",
   "execution_count": null,
   "outputs": [],
   "source": [
    "raw_trades_file_name = os.path.join(f\"{CURRENT_EXCHANGE}.{CURRENT_ASSET}.{CURRENT_TIMEFRAME}.{int(CURRENT_TARGET * 100)}.{int(CURRENT_STOP * 100)}.test_trades.xlsx\")\n",
    "raw_trades_full_file_name = os.path.join(DATA_OUTPUT_DIR,raw_trades_file_name)\n",
    "trades = pd.read_excel(raw_trades_full_file_name).to_dict('records')\n"
   ],
   "metadata": {
    "collapsed": false
   }
  },
  {
   "cell_type": "code",
   "execution_count": null,
   "outputs": [],
   "source": [
    "index_col = list(trades[0].keys())[0]\n",
    "trades_result = [{'index' : x[index_col]  ,'result' : x['result']} for x in trades]\n",
    "\n",
    "current_trade_total = 0\n",
    "trades_total = []\n",
    "for current_trade in trades_result:\n",
    "    trades_total.append({ 'index': current_trade['index'], 'total': current_trade_total })\n",
    "    current_trade_total += int(current_trade['result'])\n",
    "\n",
    "sns.lineplot(data=pd.DataFrame(trades_total), x=\"index\", y=\"total\")\n"
   ],
   "metadata": {
    "collapsed": false
   }
  },
  {
   "cell_type": "code",
   "execution_count": null,
   "outputs": [],
   "source": [],
   "metadata": {
    "collapsed": false
   }
  }
 ],
 "metadata": {
  "kernelspec": {
   "display_name": "Python 3 (ipykernel)",
   "language": "python",
   "name": "python3"
  },
  "language_info": {
   "codemirror_mode": {
    "name": "ipython",
    "version": 3
   },
   "file_extension": ".py",
   "mimetype": "text/x-python",
   "name": "python",
   "nbconvert_exporter": "python",
   "pygments_lexer": "ipython3",
   "version": "3.9.6"
  }
 },
 "nbformat": 4,
 "nbformat_minor": 5
}
