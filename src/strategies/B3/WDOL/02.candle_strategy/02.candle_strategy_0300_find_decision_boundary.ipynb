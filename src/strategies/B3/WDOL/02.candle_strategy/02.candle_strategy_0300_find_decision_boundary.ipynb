{
 "cells": [
  {
   "cell_type": "code",
   "execution_count": null,
   "id": "daff3054-e221-4721-95e9-e667ba5f93a2",
   "metadata": {
    "tags": []
   },
   "outputs": [],
   "source": [
    "SHAP_ENABLED=False"
   ]
  },
  {
   "cell_type": "code",
   "execution_count": null,
   "id": "d71045f6-e555-4c59-b299-8e4967f91890",
   "metadata": {
    "tags": []
   },
   "outputs": [],
   "source": [
    "import os\n",
    "import sys\n",
    "import gc\n",
    "import pandas as pd\n",
    "import pandas_ta as ta\n",
    "import numpy as np\n",
    "from math import pi\n",
    "from bokeh.plotting import figure, show\n",
    "from bokeh.models import ColumnDataSource\n",
    "from bokeh.transform import factor_cmap\n",
    "from bokeh.palettes import Spectral6\n",
    "import joblib\n",
    "if SHAP_ENABLED:\n",
    "    import shap\n",
    "from bokeh.resources import INLINE\n",
    "from bokeh.io import output_notebook,export_png\n",
    "import matplotlib.pyplot as plt\n",
    "\n",
    "sys.path.append(os.getcwd() + os.sep + '..' + os.sep + '..' + os.sep + '..' + os.sep + '..')\n",
    "\n",
    "from pyautotrader.utils.model_export import export_model_python, create_ast_from_xgboost_dump"
   ]
  },
  {
   "cell_type": "code",
   "execution_count": null,
   "id": "ac73acae-0d89-41c6-8f74-9174c08785ee",
   "metadata": {
    "tags": []
   },
   "outputs": [],
   "source": [
    "import platform\n",
    "\n",
    "SHOULD_GENERATE_IMAGES = platform.system() == 'Windows'\n",
    "if \"SHOULD_GENERATE_IMAGES\" in os.environ:\n",
    "    SHOULD_GENERATE_IMAGES = True"
   ]
  },
  {
   "cell_type": "code",
   "execution_count": null,
   "id": "e5b2e60a-b741-41d0-a476-7ad7583587b9",
   "metadata": {
    "tags": []
   },
   "outputs": [],
   "source": [
    "output_notebook(INLINE)"
   ]
  },
  {
   "cell_type": "code",
   "execution_count": null,
   "id": "017587ae-586e-4441-893c-7a3c8a3d3cb7",
   "metadata": {
    "tags": []
   },
   "outputs": [],
   "source": [
    "DATA_OUTPUT_DIR = os.path.join('..','00.data','output')"
   ]
  },
  {
   "cell_type": "code",
   "execution_count": null,
   "id": "79173a3b-f762-4b19-bb91-dd3366e9a646",
   "metadata": {
    "tags": []
   },
   "outputs": [],
   "source": [
    "if \"DATA_OUTPUT_DIR\" in os.environ:\n",
    "    DATA_OUTPUT_DIR = os.environ[\"DATA_OUTPUT_DIR\"]"
   ]
  },
  {
   "cell_type": "code",
   "execution_count": null,
   "id": "b7e414ad-f1f2-4b88-9464-0860a3db2325",
   "metadata": {
    "tags": []
   },
   "outputs": [],
   "source": [
    "files_found = [x for x in os.listdir(DATA_OUTPUT_DIR) if x.endswith('.pickle')]\n",
    "files_found_tokens=[x.split('.') for x in files_found]\n",
    "\n",
    "models_found = {}\n",
    "\n",
    "for current_model in files_found_tokens:\n",
    "    model_name = '.'.join(current_model[:-2])\n",
    "    filename = os.path.join(DATA_OUTPUT_DIR,'.'.join(current_model))\n",
    "    if not model_name in models_found:\n",
    "        models_found[model_name]= {}          \n",
    "    models_found[model_name][current_model[-2]]=filename\n",
    "\n",
    "print(models_found)"
   ]
  },
  {
   "cell_type": "code",
   "execution_count": null,
   "id": "4d0a225a-a397-4525-82d9-d13c30828d4e",
   "metadata": {
    "tags": []
   },
   "outputs": [],
   "source": [
    "first_model = list(models_found.keys())[0]\n",
    "current_total_dataset = joblib.load(models_found[first_model]['total'])\n",
    "current_parameters = joblib.load(models_found[first_model]['parameters'])\n",
    "current_raw_dataset = joblib.load(models_found[first_model]['raw'])\n",
    "\n",
    "best_short_booster = joblib.load(models_found[first_model]['xgboostshortmodel'])\n",
    "best_long_booster = joblib.load(models_found[first_model]['xgboostlongmodel'])"
   ]
  },
  {
   "cell_type": "code",
   "execution_count": null,
   "id": "78b771c6-f653-4ba3-9b30-8b4c0e0bda0e",
   "metadata": {
    "tags": []
   },
   "outputs": [],
   "source": [
    "CURRENT_EXCHANGE = current_parameters['CURRENT_EXCHANGE']\n",
    "CURRENT_ASSET = current_parameters['CURRENT_ASSET']\n",
    "CURRENT_TIMEFRAME = current_parameters['CURRENT_TIMEFRAME']\n",
    "CURRENT_TARGET = current_parameters['CURRENT_TARGET']\n",
    "CURRENT_STOP = current_parameters['CURRENT_STOP']\n",
    "MAX_TRADE_DURATION = current_parameters['MAX_TRADE_DURATION']\n",
    "DECISION_BOUNDARY = current_parameters['DECISION_BOUNDARY']"
   ]
  },
  {
   "cell_type": "code",
   "execution_count": null,
   "id": "f1035aa5-783a-4f43-9776-428f40ba42b9",
   "metadata": {
    "tags": []
   },
   "outputs": [],
   "source": [
    "df_current_total_dataset = pd.DataFrame(current_total_dataset)"
   ]
  },
  {
   "cell_type": "code",
   "execution_count": null,
   "id": "f340f3bc-3385-4ca4-9ed3-98a512f1e276",
   "metadata": {
    "tags": []
   },
   "outputs": [],
   "source": [
    "df_current_total_dataset = df_current_total_dataset[['current_date', 'current_time'] + current_parameters['CURRENT_X_COLUMNS']]"
   ]
  },
  {
   "cell_type": "code",
   "execution_count": null,
   "id": "f66fd9e8-fbd9-4c52-b128-a577fdd02623",
   "metadata": {
    "tags": []
   },
   "outputs": [],
   "source": [
    "current_total_dataset = None\n",
    "gc.collect()"
   ]
  },
  {
   "cell_type": "code",
   "execution_count": null,
   "id": "b80e4cc8-88a9-4bc8-9b33-fae3f7fc451b",
   "metadata": {
    "tags": []
   },
   "outputs": [],
   "source": [
    "def predict_short(row):\n",
    "    a = row[current_parameters['CURRENT_X_COLUMNS']].to_numpy().reshape(1,-1)\n",
    "    return best_short_booster.get_booster().inplace_predict(a)[0]\n",
    "\n",
    "def predict_long(row):\n",
    "    a = row[current_parameters['CURRENT_X_COLUMNS']].to_numpy().reshape(1,-1)\n",
    "    return best_long_booster.get_booster().inplace_predict(a)[0]\n",
    "\n",
    "df_current_total_dataset['short_predict'] = df_current_total_dataset.apply( lambda row: predict_short(row), axis=1)\n",
    "df_current_total_dataset['long_predict'] = df_current_total_dataset.apply( lambda row: predict_long(row), axis=1)"
   ]
  },
  {
   "cell_type": "code",
   "execution_count": null,
   "id": "0a2b141c-fa87-42ff-954a-b642805ec17e",
   "metadata": {
    "tags": []
   },
   "outputs": [],
   "source": [
    "def predict_shap_short(row):\n",
    "    x_columns = row[current_parameters['CURRENT_X_COLUMNS']].to_numpy().reshape(1,-1)\n",
    "    explainer = shap.TreeExplainer(best_short_booster)\n",
    "    shap_values = explainer.shap_values(x_columns)\n",
    "    shap_values = shap_values[0]\n",
    "    shap_values_with_desc = []\n",
    "    for current_column in range(len(current_parameters['CURRENT_X_COLUMNS'])):\n",
    "        shap_values_with_desc.append({ 'desc':current_parameters['CURRENT_X_COLUMNS'][current_column], 'value':shap_values[current_column]})\n",
    "\n",
    "    shap_values_with_desc.sort(key=lambda x: x['value'])\n",
    "    return str(shap_values_with_desc)\n",
    "    \n",
    "\n",
    "def predict_shap_long(row):\n",
    "    x_columns = row[current_parameters['CURRENT_X_COLUMNS']].to_numpy().reshape(1,-1)\n",
    "    explainer = shap.TreeExplainer(best_long_booster)\n",
    "    shap_values = explainer.shap_values(x_columns)\n",
    "    shap_values = shap_values[0]\n",
    "    shap_values_with_desc = []\n",
    "    for current_column in range(len(current_parameters['CURRENT_X_COLUMNS'])):\n",
    "        shap_values_with_desc.append({ 'desc':current_parameters['CURRENT_X_COLUMNS'][current_column], 'value':shap_values[current_column]})\n",
    "\n",
    "    shap_values_with_desc.sort(key=lambda x: x['value'])\n",
    "    return str(shap_values_with_desc)\n",
    "\n",
    "    \n",
    "df_current_total_dataset['short_shap'] = df_current_total_dataset.apply( lambda row: predict_shap_short(row) if (row['short_predict'] > 0 and SHAP_ENABLED) else \"\", axis=1)\n",
    "df_current_total_dataset['long_shap'] = df_current_total_dataset.apply( lambda row: predict_shap_long(row) if (row['long_predict'] > 0 and SHAP_ENABLED) else \"\", axis=1)"
   ]
  },
  {
   "cell_type": "code",
   "execution_count": null,
   "id": "cef14bd9-f863-4783-acc0-7e48ae128646",
   "metadata": {
    "tags": []
   },
   "outputs": [],
   "source": [
    "df_current_total_dataset[df_current_total_dataset['short_predict'] > 0]['short_shap'].head(10)"
   ]
  },
  {
   "cell_type": "code",
   "execution_count": null,
   "id": "a4e075fa-375f-44dc-8530-39cb524cf786",
   "metadata": {
    "tags": []
   },
   "outputs": [],
   "source": [
    "model_file_name = os.path.join(f\"{CURRENT_EXCHANGE}.{CURRENT_ASSET}.{CURRENT_TIMEFRAME}.{int(CURRENT_TARGET * 100)}.{int(CURRENT_STOP * 100)}.hist_short.png\")\n",
    "model_full_file_name = os.path.join(DATA_OUTPUT_DIR,model_file_name)\n",
    "\n",
    "fig, ax = plt.subplots()\n",
    "df_current_total_dataset.hist('short_predict', ax=ax, bins=500)\n",
    "fig.savefig(model_full_file_name)"
   ]
  },
  {
   "cell_type": "code",
   "execution_count": null,
   "id": "5316bf86-6088-4d60-af22-88fc43584c71",
   "metadata": {
    "tags": []
   },
   "outputs": [],
   "source": [
    "model_file_name = os.path.join(f\"{CURRENT_EXCHANGE}.{CURRENT_ASSET}.{CURRENT_TIMEFRAME}.{int(CURRENT_TARGET * 100)}.{int(CURRENT_STOP * 100)}.hist_long.png\")\n",
    "model_full_file_name = os.path.join(DATA_OUTPUT_DIR,model_file_name)\n",
    "\n",
    "fig, ax = plt.subplots()\n",
    "df_current_total_dataset.hist('long_predict', ax=ax, bins=500)\n",
    "fig.savefig(model_full_file_name)"
   ]
  },
  {
   "cell_type": "code",
   "execution_count": null,
   "id": "0fc58add-e310-4d9b-9bd0-7d83b1f46a88",
   "metadata": {
    "tags": []
   },
   "outputs": [],
   "source": [
    "results_from_df = df_current_total_dataset.to_dict('records')\n",
    "results = {}\n",
    "short_results = []\n",
    "long_results = []\n",
    "\n",
    "for current_result in results_from_df:\n",
    "    results[(current_result['current_date'] * 10000) + current_result['current_time']] = \\\n",
    "    { \n",
    "        'short_predict' : current_result['short_predict'],\n",
    "        'long_predict' : current_result['long_predict'],\n",
    "        'short_shap' : current_result['short_shap'],\n",
    "        'long_shap' : current_result['long_shap'],\n",
    "    }    \n",
    "    short_results.append(current_result['short_predict'])\n",
    "    long_results.append(current_result['long_predict'])\n",
    "\n"
   ]
  },
  {
   "cell_type": "code",
   "execution_count": null,
   "id": "f19d8999-8bae-43f8-b0fb-dc57e0c43466",
   "metadata": {
    "tags": []
   },
   "outputs": [],
   "source": [
    "minimum_short_predict = 0\n",
    "minimum_long_predict = 0\n",
    "\n",
    "maximum_short_predict = int(round(max(short_results),0))\n",
    "maximum_long_predict = int(round(max(long_results),0))\n",
    "\n",
    "current_short_predict = 0\n",
    "current_long_predict = 0\n",
    "\n",
    "current_trade = None\n",
    "current_trade_entries = []\n",
    "\n",
    "candle_count = 0\n",
    "current_target = current_parameters['CURRENT_TARGET']\n",
    "current_stop = current_parameters['CURRENT_STOP']\n",
    "\n",
    "for current_candle in current_raw_dataset:\n",
    "    if current_trade is not None:\n",
    "        is_short = current_trade['trade_type'] == 'short'\n",
    "        is_long = current_trade['trade_type'] == 'long'\n",
    "        if is_short:\n",
    "            if current_candle['low'] <= current_trade['trade_target']:\n",
    "                current_trade['result'] =  round(current_trade['trade_start'] - current_trade['trade_target'],2)\n",
    "                current_trade['final_close'] = current_candle['close']\n",
    "                current_trade = None\n",
    "                continue\n",
    "            if current_candle['high'] >= current_trade['trade_stop']:\n",
    "                current_trade['result'] =  round(current_trade['trade_start'] - current_trade['trade_stop'],2)\n",
    "                current_trade['final_close'] = current_candle['close']\n",
    "                current_trade = None\n",
    "                continue                \n",
    "        if is_long:\n",
    "            if current_candle['low'] <= current_trade['trade_stop']:\n",
    "                current_trade['result'] =  round(current_candle['close'] - current_trade['trade_stop'],2)\n",
    "                current_trade['final_close'] = current_candle['close']\n",
    "                current_trade = None\n",
    "                continue\n",
    "            if current_candle['high'] >= current_trade['trade_target']:\n",
    "                current_trade['result'] =  round(current_candle['close'] - current_trade['trade_target'],2)\n",
    "                current_trade['final_close'] = current_candle['close']\n",
    "                current_trade = None\n",
    "                continue                \n",
    "        if candle_count > (current_trade['start_candle'] + MAX_TRADE_DURATION):\n",
    "            if is_long:\n",
    "                current_trade['result'] =  round(current_candle['close'] - current_trade['trade_start'],2)\n",
    "                current_trade['final_close'] = current_candle['close']\n",
    "            if is_short:\n",
    "                current_trade['result'] =  round(current_trade['trade_start'] - current_candle['close'],2)\n",
    "                current_trade['final_close'] = current_candle['close']\n",
    "            current_trade = None\n",
    "            continue\n",
    "\n",
    "        \n",
    "    if current_trade is None:\n",
    "        if current_candle['Date'] > current_parameters['MINIMUM_DATE_TRADE'] and \\\n",
    "           current_candle['Time'] >= current_parameters['MINIMUM_TIME'] and \\\n",
    "           current_candle['Time'] <= current_parameters['MAXIMUM_TIME']:\n",
    "            current_date_time = (current_candle['Date'] * 10000) + current_candle['Time']\n",
    "            is_entry_point = results[current_date_time]['short_predict'] > DECISION_BOUNDARY or results[current_date_time]['long_predict'] > DECISION_BOUNDARY\n",
    "            if is_entry_point:\n",
    "                is_short = results[current_date_time]['short_predict'] > 0 \n",
    "                current_trade = {**current_candle, \n",
    "                                 'trade_type': 'short' if is_short else 'long', \n",
    "                                 'start_candle': candle_count,\n",
    "                                 'trade_start': current_candle['close'],\n",
    "                                 'predicted': results[current_date_time]['short_predict'] if is_short else results[current_date_time]['long_predict'],\n",
    "                                 'shap': results[current_date_time]['short_shap'] if is_short else results[current_date_time]['long_shap']\n",
    "                                }\n",
    "                if is_short:\n",
    "                    current_trade['trade_target'] = current_candle['close'] * (1 - (current_stop / 100))\n",
    "                    current_trade['trade_stop'] = current_candle['close'] * (1 + (current_target / 100))\n",
    "                else:\n",
    "                    current_trade['trade_target'] = current_candle['close'] * (1 + (current_target / 100))\n",
    "                    current_trade['trade_stop'] = current_candle['close'] * (1 - (current_stop / 100))\n",
    "                    \n",
    "                current_trade_entries.append(current_trade)\n",
    "                \n",
    "    candle_count += 1"
   ]
  },
  {
   "cell_type": "code",
   "execution_count": null,
   "id": "9931ca94-4ee3-4b06-b41f-5cb4fb48fb70",
   "metadata": {
    "tags": []
   },
   "outputs": [],
   "source": [
    "trades = pd.DataFrame(current_trade_entries)\n",
    "raw_trades_file_name = os.path.join(f\"{CURRENT_EXCHANGE}.{CURRENT_ASSET}.{CURRENT_TIMEFRAME}.{int(CURRENT_TARGET * 100)}.{int(CURRENT_STOP * 100)}.trades.xlsx\")\n",
    "raw_trades_full_file_name = os.path.join(DATA_OUTPUT_DIR,raw_trades_file_name)\n",
    "trades.to_excel(raw_trades_full_file_name)"
   ]
  },
  {
   "cell_type": "code",
   "execution_count": null,
   "id": "eb7050df-bac0-4e6c-8b4a-8e9021aecae3",
   "metadata": {
    "tags": []
   },
   "outputs": [],
   "source": [
    "current_trade_per_day = {}\n",
    "days = []\n",
    "current_days = []\n",
    "current_results = []\n",
    "for current_trade in current_trade_entries:\n",
    "    current_date = current_trade['Date']        \n",
    "    if current_date in current_trade_per_day:\n",
    "        current_trade_per_day[current_date]['result'] += current_trade['result']\n",
    "    else:\n",
    "        current_trade_per_day[current_date] = {\n",
    "            'result' : current_trade['result']\n",
    "        }\n",
    "        \n",
    "for current_date in current_trade_per_day:\n",
    "    days.append({'date': current_date, 'result': current_trade_per_day[current_date]['result']})\n",
    "    current_days.append(str(current_date))\n",
    "    current_results.append(current_trade_per_day[current_date]['result'])\n",
    "   \n",
    "if SHOULD_GENERATE_IMAGES:\n",
    "    current_source = ColumnDataSource(data=dict(current_days=current_days, current_results=current_results))\n",
    "    p = figure(x_range=current_days, width=1600, height=900, toolbar_location=None, title=\"Resultado do Modelo Em pontos\")\n",
    "    p.vbar(x='current_days', top='current_results', width=0.9, source=current_source)\n",
    "\n",
    "    trade_results_file_name = os.path.join(f\"{CURRENT_EXCHANGE}.{CURRENT_ASSET}.{CURRENT_TIMEFRAME}.{int(CURRENT_TARGET * 100)}.{int(CURRENT_STOP * 100)}.trade_results.png\")\n",
    "    trade_results_full_file_name = os.path.join(DATA_OUTPUT_DIR,trade_results_file_name)\n",
    "\n",
    "    export_png(p, filename=trade_results_full_file_name)\n",
    "\n",
    "    show(p)"
   ]
  },
  {
   "cell_type": "code",
   "execution_count": null,
   "id": "56c4c76d-55cf-447d-a61b-f8da1d8e0a26",
   "metadata": {
    "tags": []
   },
   "outputs": [],
   "source": [
    "model_file_name = os.path.join(f\"{CURRENT_EXCHANGE}.{CURRENT_ASSET}.{CURRENT_TIMEFRAME}.{int(CURRENT_TARGET * 100)}.{int(CURRENT_STOP * 100)}.xgboostshortmodel.txt\")\n",
    "model_full_file_name = os.path.join(DATA_OUTPUT_DIR,model_file_name)\n",
    "\n",
    "python_script_name = 'process_short'\n",
    "python_script_name_short = f'{CURRENT_EXCHANGE}_{CURRENT_ASSET}_{CURRENT_TIMEFRAME}_{int(CURRENT_TARGET * 100)}_{int(CURRENT_STOP * 100)}_process_short'\n",
    "python_code_model_full_file_name = os.path.join(DATA_OUTPUT_DIR,python_script_name_short+'.py')\n",
    "\n",
    "ast = create_ast_from_xgboost_dump(model_full_file_name)\n",
    "export_model_python(ast, python_script_name, python_code_model_full_file_name, 0.5)"
   ]
  },
  {
   "cell_type": "code",
   "execution_count": null,
   "id": "880b9e95-4fd7-46f5-a366-f3a4efc946a3",
   "metadata": {
    "tags": []
   },
   "outputs": [],
   "source": [
    "model_file_name = os.path.join(f\"{CURRENT_EXCHANGE}.{CURRENT_ASSET}.{CURRENT_TIMEFRAME}.{int(CURRENT_TARGET * 100)}.{int(CURRENT_STOP * 100)}.xgboostlongmodel.txt\")\n",
    "model_full_file_name = os.path.join(DATA_OUTPUT_DIR,model_file_name)\n",
    "\n",
    "python_script_name = 'process_long'\n",
    "python_script_name_long = f'{CURRENT_EXCHANGE}_{CURRENT_ASSET}_{CURRENT_TIMEFRAME}_{int(CURRENT_TARGET * 100)}_{int(CURRENT_STOP * 100)}_process_long'\n",
    "python_code_model_full_file_name = os.path.join(DATA_OUTPUT_DIR,python_script_name_long+'.py')\n",
    "\n",
    "ast = create_ast_from_xgboost_dump(model_full_file_name)\n",
    "export_model_python(ast, python_script_name, python_code_model_full_file_name, 0.5)"
   ]
  },
  {
   "cell_type": "code",
   "execution_count": null,
   "id": "2a61c13e-1ab5-4ee1-b40d-43b34d4c9d9e",
   "metadata": {
    "tags": []
   },
   "outputs": [],
   "source": [
    "sys.path.append(DATA_OUTPUT_DIR)\n",
    "exec(f'from {python_script_name_short} import process_short')\n",
    "exec(f'from {python_script_name_long} import process_long')"
   ]
  },
  {
   "cell_type": "code",
   "execution_count": null,
   "id": "5308e7f8-3007-4715-bcac-eadde4cc8abd",
   "metadata": {
    "tags": []
   },
   "outputs": [],
   "source": [
    "results_from_df = [{ **x, 'short_from_code' : process_short(x), 'long_from_code': process_long(x)} for x in results_from_df]\n",
    "check_results = pd.DataFrame(results_from_df)\n",
    "check_results['short_bias'] = check_results.apply( lambda row: 0 if ((row['short_predict'] - row['short_from_code']) < 0.00001) else 0.00001 , axis=1)\n",
    "check_results['long_bias'] = check_results.apply( lambda row: 0 if ((row['long_predict'] - row['long_from_code']) < 0.00001) else 0.00001 , axis=1)"
   ]
  },
  {
   "cell_type": "code",
   "execution_count": null,
   "id": "edf7bc02-578e-455b-82ce-50345e4193aa",
   "metadata": {
    "tags": []
   },
   "outputs": [],
   "source": [
    "check_results.head(100)"
   ]
  },
  {
   "cell_type": "code",
   "execution_count": null,
   "id": "edeea81c-2846-428b-90d5-76f8bd58b110",
   "metadata": {},
   "outputs": [],
   "source": []
  }
 ],
 "metadata": {
  "kernelspec": {
   "display_name": "Python 3 (ipykernel)",
   "language": "python",
   "name": "python3"
  },
  "language_info": {
   "codemirror_mode": {
    "name": "ipython",
    "version": 3
   },
   "file_extension": ".py",
   "mimetype": "text/x-python",
   "name": "python",
   "nbconvert_exporter": "python",
   "pygments_lexer": "ipython3",
   "version": "3.9.6"
  }
 },
 "nbformat": 4,
 "nbformat_minor": 5
}
