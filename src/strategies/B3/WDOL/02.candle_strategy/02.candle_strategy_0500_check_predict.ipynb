{
 "cells": [
  {
   "cell_type": "code",
   "execution_count": null,
   "id": "a68c0e94-3e37-4017-ab99-bc0e627bbde1",
   "metadata": {},
   "outputs": [],
   "source": [
    "import os\n",
    "import pandas as pd\n",
    "import joblib\n",
    "import requests"
   ]
  },
  {
   "cell_type": "code",
   "execution_count": null,
   "id": "a174d316-dcef-4719-ba63-215bfbb2c5e6",
   "metadata": {},
   "outputs": [],
   "source": [
    "DATA_OUTPUT_DIR = os.path.join('..','00.data','output')"
   ]
  },
  {
   "cell_type": "code",
   "execution_count": null,
   "id": "ca04b223-d8f0-42ae-ada7-344ea6565958",
   "metadata": {},
   "outputs": [],
   "source": [
    "if \"DATA_OUTPUT_DIR\" in os.environ:\n",
    "    DATA_OUTPUT_DIR = os.environ[\"DATA_OUTPUT_DIR\"]\n",
    "if \"PYAUTOTRADER_URL\" not in os.environ:\n",
    "    raise EnvironmentError(\"PYAUTOTRADER_URL not defined\")\n",
    "else:\n",
    "    PYAUTOTRADER_URL = os.environ[\"PYAUTOTRADER_URL\"]"
   ]
  },
  {
   "cell_type": "code",
   "execution_count": null,
   "id": "e615269c-3035-4d55-b4dd-26be14a649cd",
   "metadata": {},
   "outputs": [],
   "source": [
    "files_found = [x for x in os.listdir(DATA_OUTPUT_DIR) if x.endswith('.pickle')]\n",
    "files_found_tokens=[x.split('.') for x in files_found]\n",
    "\n",
    "models_found = {}\n",
    "\n",
    "for current_model in files_found_tokens:\n",
    "    model_name = '.'.join(current_model[:-2])\n",
    "    filename = os.path.join(DATA_OUTPUT_DIR,'.'.join(current_model))\n",
    "    if not model_name in models_found:\n",
    "        models_found[model_name]= {}          \n",
    "    models_found[model_name][current_model[-2]]=filename"
   ]
  },
  {
   "cell_type": "code",
   "execution_count": null,
   "id": "2ffa16c3-4594-46bb-8cfc-dee51a483461",
   "metadata": {},
   "outputs": [],
   "source": [
    "first_model = list(models_found.keys())[0]\n",
    "current_parameters = joblib.load(models_found[first_model]['parameters'])"
   ]
  },
  {
   "cell_type": "code",
   "execution_count": null,
   "id": "d36eda83-8c05-4bb9-aa94-294c1b7cb353",
   "metadata": {},
   "outputs": [],
   "source": [
    "CURRENT_EXCHANGE = current_parameters['CURRENT_EXCHANGE']\n",
    "CURRENT_ASSET = current_parameters['CURRENT_ASSET']\n",
    "CURRENT_TIMEFRAME= current_parameters['CURRENT_TIMEFRAME']\n",
    "CURRENT_TARGET= current_parameters['CURRENT_TARGET']\n",
    "CURRENT_STOP= current_parameters['CURRENT_STOP']"
   ]
  },
  {
   "cell_type": "code",
   "execution_count": null,
   "id": "d5eecec3-a43d-488b-af75-443ea7514023",
   "metadata": {},
   "outputs": [],
   "source": [
    "predict_file_name = os.path.join(f\"{CURRENT_EXCHANGE}.{CURRENT_ASSET}.{CURRENT_TIMEFRAME}.{int(CURRENT_TARGET * 100)}.{int(CURRENT_STOP * 100)}.predicts.xlsx\")\n",
    "predict_full_file_name = os.path.join(DATA_OUTPUT_DIR,predict_file_name)\n",
    "dfPredict = pd.read_excel(predict_full_file_name)"
   ]
  },
  {
   "cell_type": "code",
   "execution_count": null,
   "id": "ce7ec23e-86ba-4b53-ac16-9338631dd500",
   "metadata": {},
   "outputs": [],
   "source": [
    "def predict_short(x):\n",
    "    url_final = f'{PYAUTOTRADER_URL}predict/{CURRENT_EXCHANGE}/{CURRENT_ASSET}/{CURRENT_TIMEFRAME}/{int(x[\"current_date\"])}/{int(x[\"current_time\"])}/'\n",
    "    return requests.get(url_final).json()['short_predict']\n",
    "\n",
    "def predict_long(x):\n",
    "    url_final = f'{PYAUTOTRADER_URL}predict/{CURRENT_EXCHANGE}/{CURRENT_ASSET}/{CURRENT_TIMEFRAME}/{int(x[\"current_date\"])}/{int(x[\"current_time\"])}/'\n",
    "    return requests.get(url_final).json()['long_predict']\n"
   ]
  },
  {
   "cell_type": "code",
   "execution_count": null,
   "id": "5edec345-f13d-490c-b01e-bbfb4e41adad",
   "metadata": {},
   "outputs": [],
   "source": [
    "dfPredict['short_predict_server'] = dfPredict.apply( lambda x: predict_short(x), axis=1)\n",
    "dfPredict['long_predict_server'] = dfPredict.apply( lambda x: predict_long(x), axis=1)"
   ]
  },
  {
   "cell_type": "code",
   "execution_count": null,
   "id": "0d15e0f2-50c9-4059-bff1-5dfd76a5bfd9",
   "metadata": {},
   "outputs": [],
   "source": [
    "dfPredict['diff_predict_short'] = dfPredict.apply( lambda x: x['short_predict_server'] - x['short_predict'] , axis=1)\n",
    "dfPredict['diff_predict_long'] = dfPredict.apply( lambda x: x['long_predict_server'] - x['long_predict'], axis=1)"
   ]
  },
  {
   "cell_type": "code",
   "execution_count": null,
   "id": "dd9435b7-393b-449d-85e0-d603414c2ff2",
   "metadata": {},
   "outputs": [],
   "source": [
    "predict_file_name = os.path.join(f\"{CURRENT_EXCHANGE}.{CURRENT_ASSET}.{CURRENT_TIMEFRAME}.{int(CURRENT_TARGET * 100)}.{int(CURRENT_STOP * 100)}.predicts_server.xlsx\")\n",
    "predict_full_file_name = os.path.join(DATA_OUTPUT_DIR,predict_file_name)\n",
    "\n",
    "dfPredict.to_excel(predict_full_file_name)"
   ]
  },
  {
   "cell_type": "code",
   "execution_count": null,
   "id": "449e2c09-8429-40b2-919b-91127aac33fa",
   "metadata": {},
   "outputs": [],
   "source": []
  }
 ],
 "metadata": {
  "kernelspec": {
   "display_name": "Python 3 (ipykernel)",
   "language": "python",
   "name": "python3"
  },
  "language_info": {
   "codemirror_mode": {
    "name": "ipython",
    "version": 3
   },
   "file_extension": ".py",
   "mimetype": "text/x-python",
   "name": "python",
   "nbconvert_exporter": "python",
   "pygments_lexer": "ipython3",
   "version": "3.9.6"
  }
 },
 "nbformat": 4,
 "nbformat_minor": 5
}
